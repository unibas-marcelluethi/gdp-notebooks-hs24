{
 "cells": [
  {
   "cell_type": "markdown",
   "id": "e0c58392",
   "metadata": {},
   "source": [
    "# Vererbung\n",
    "#### Patrick Schnider, Marcel Lüthi<br/>Departement Mathematik und Informatik, Universität Basel"
   ]
  },
  {
   "cell_type": "markdown",
   "id": "ab6c2e90",
   "metadata": {},
   "source": [
    "### Vererbung in Java\n",
    "\n",
    "Beim Programmieren modeliert man oft ein Teil der Welt. Es werden dann natürlich nur die Eigenschaften modeliert, welche im Programm benötigt werden.\n",
    "\n",
    "Vererbung kann verwendet werden um mehrere Klassen mit den selben Merkmalen auszustatten. Schauen wir uns die Eigenschaft \"kann fliegen\" an. Wir beginnen, diese Eigenschaft als abstrakte Klasse zu definieren, welche das Verhalten implementiert."
   ]
  },
  {
   "cell_type": "markdown",
   "id": "52b95422",
   "metadata": {},
   "source": [
    "#### Miniübung\n",
    "Um Ihnen Tipparbeit zu sparen, sind Teile schon vorhanden. Diese müssen Sie aber je nach Situation noch ändern und anpassen.\n",
    "\n",
    "- Implementieren Sie eine abstrakte Klasse `CanFly`.\n",
    "- Die Klasse soll eine Methode `fly` haben, die etwas übers Fliegen auf die Konsole ausgibt.\n",
    "- Leiten Sie eine Klasse `Bird` von dieser Klasse ab.\n",
    "- Benutzen Sie die Klasse `Bird` und rufen die geerbte Methode `fly` auf."
   ]
  },
  {
   "cell_type": "code",
   "execution_count": null,
   "id": "3d8dd6cb",
   "metadata": {
    "vscode": {
     "languageId": "java"
    }
   },
   "outputs": [],
   "source": [
    "// Ihre abstrakte Klasse kommt hier hin\n",
    "public class CanFly {}\n",
    "\n",
    "// Ihre Klasse Bird kommt hier hin\n",
    "public class Bird {}\n",
    "\n",
    "public class Application {\n",
    "    public static void main(String[] args) {\n",
    "        // Benutzen Sie Ihre Klasse hier und rufen Sie fly auf\n",
    "    }\n",
    "}"
   ]
  },
  {
   "cell_type": "code",
   "execution_count": null,
   "id": "c6fe139c",
   "metadata": {
    "vscode": {
     "languageId": "java"
    }
   },
   "outputs": [],
   "source": [
    "Application.main(new String[0]);"
   ]
  },
  {
   "cell_type": "markdown",
   "id": "7b45a80f",
   "metadata": {},
   "source": [
    "Flugzeuge können auch fliegen. Wir profitieren hier von der abstrakten Klasse `CanFly`."
   ]
  },
  {
   "cell_type": "markdown",
   "id": "e86e141a",
   "metadata": {},
   "source": [
    "#### Miniübung\n",
    "\n",
    "- Implementieren Sie eine Klasse `Airplane` welche auch von `CanFly` erbt.\n",
    "- Erstellen Sie ein Array, welches ein Flugzeung und ein Vogel als Elemente hat.\n",
    "- Iterieren Sie über das Array und rufen Sie auf jedem Element die Methode `fly` auf."
   ]
  },
  {
   "cell_type": "code",
   "execution_count": null,
   "id": "fbc27c86",
   "metadata": {
    "vscode": {
     "languageId": "java"
    }
   },
   "outputs": [],
   "source": [
    "// Ihre Klasse Airplane kommt hier hin\n",
    "public class Airplane {}\n",
    "\n",
    "public class Application {\n",
    "    public static void main(String[] args) {\n",
    "        // Erstellen und benutzen Sie das Array hier\n",
    "    }\n",
    "}"
   ]
  },
  {
   "cell_type": "code",
   "execution_count": null,
   "id": "2d1f071c",
   "metadata": {
    "vscode": {
     "languageId": "java"
    }
   },
   "outputs": [],
   "source": [
    "Application.main(new String[0]);"
   ]
  },
  {
   "cell_type": "markdown",
   "id": "05bc2ccd",
   "metadata": {},
   "source": [
    "Klassen mit nur einer Eigenschaft sind etwas langweilig. Eine zweite Eigenschaft von Vögeln ist, dass sie Essen müssen."
   ]
  },
  {
   "cell_type": "markdown",
   "id": "ae2a2e61",
   "metadata": {},
   "source": [
    "#### Miniübung\n",
    "- Schreiben Sie eine abstrakte Klasse `NeedsFood`.\n",
    "- Die Klasse soll eine Methode `eat` haben, welche etwas übers Essen auf die Konsole ausgibt."
   ]
  },
  {
   "cell_type": "code",
   "execution_count": null,
   "id": "b3227bc4",
   "metadata": {
    "vscode": {
     "languageId": "java"
    }
   },
   "outputs": [],
   "source": [
    "public class NeedsFood {}"
   ]
  },
  {
   "cell_type": "markdown",
   "id": "6f1f4609",
   "metadata": {},
   "source": [
    "#### Miniübung\n",
    "- Probieren Sie, eine Klasse `HungryBird` zu erstellen, die fliegen kann und etwas zu Essen braucht."
   ]
  },
  {
   "cell_type": "code",
   "execution_count": null,
   "id": "ad0a6ede",
   "metadata": {
    "vscode": {
     "languageId": "java"
    }
   },
   "outputs": [],
   "source": [
    "// Hier kommt ihre Klasse HungryBird hin\n",
    "public class HungryBird {}\n",
    "\n",
    "public class Application {\n",
    "    public static void main(String[] args) {\n",
    "        HungryBird bird = new HungryBird();\n",
    "        bird.fly();   \n",
    "        bird.eat();\n",
    "    }\n",
    "}"
   ]
  },
  {
   "cell_type": "code",
   "execution_count": null,
   "id": "5089804f",
   "metadata": {
    "vscode": {
     "languageId": "java"
    }
   },
   "outputs": [],
   "source": [
    "Application.main(new String[0]);"
   ]
  },
  {
   "cell_type": "markdown",
   "id": "bacb92d2",
   "metadata": {},
   "source": [
    ">Klassen können in Java nur von einer Klassen erben, aber mehrere Interfaces implementieren.\n",
    "\n",
    "Mehrfachvererbung ist in gewissen anderen Programmiersprachen erlaubt, nicht aber in Java. In Java können Klassen jedoch mehrere Interfaces implementieren."
   ]
  },
  {
   "cell_type": "markdown",
   "id": "d6e9a040",
   "metadata": {},
   "source": [
    "### Interfaces\n",
    "\n",
    "#### Miniübung\n",
    "- Deklarieren Sie das passende Interface `NeedsFood`.\n",
    "- Ergänzen Sie die Klasse HungryBird, so dass diese die beiden Interfaces `CanFly` und `NeedsFood` implementiert."
   ]
  },
  {
   "cell_type": "code",
   "execution_count": null,
   "id": "70aa3978",
   "metadata": {
    "vscode": {
     "languageId": "java"
    }
   },
   "outputs": [],
   "source": [
    "public interface CanFly {\n",
    "    void fly();\n",
    "}\n",
    "\n",
    "// Hier kommt das Interface NeedsFood hin\n",
    "\n",
    "\n",
    "// Ergänzen Sie die Klasse HungryBird\n",
    "\n",
    "\n",
    "public class Application {\n",
    "    public static void main(String[] args) {\n",
    "        HungryBird hb = new HungryBird();\n",
    "        hb.fly();\n",
    "        hb.eat();\n",
    "    }\n",
    "}"
   ]
  },
  {
   "cell_type": "code",
   "execution_count": null,
   "id": "d7a40b73",
   "metadata": {
    "vscode": {
     "languageId": "java"
    }
   },
   "outputs": [],
   "source": [
    "Application.main(new String[0]);"
   ]
  },
  {
   "cell_type": "markdown",
   "id": "79c459fd",
   "metadata": {},
   "source": [
    "Interfaces können nicht nur Methoden Deklarationen enthalten. Tatsächlich ermöglicht es Java seit Version 8, dass Interfaces eine `default` Implementation für Methoden angeben.\n",
    "\n",
    "Wir können also unsere Idee mit den abstrakten Klassen als Interfaces umsetzen.\n",
    "\n",
    "#### Miniübung\n",
    "- Schreiben Sie eine `default` Implementation für die beiden Methoden direkt in den Interfaces.\n",
    "- Ergänzen Sie die Klasse `HungryBird`."
   ]
  },
  {
   "cell_type": "code",
   "execution_count": null,
   "id": "53c21040",
   "metadata": {
    "vscode": {
     "languageId": "java"
    }
   },
   "outputs": [],
   "source": [
    "public interface CanFly {}\n",
    "\n",
    "public interface NeedsFood {}\n",
    "\n",
    "\n",
    "\n",
    "public class Application {\n",
    "    public static void main(String[] args) {\n",
    "        HungryBird hb = new HungryBird();\n",
    "        hb.fly();\n",
    "        hb.eat();\n",
    "    }\n",
    "}"
   ]
  },
  {
   "cell_type": "code",
   "execution_count": null,
   "id": "da951eed",
   "metadata": {
    "scrolled": true,
    "vscode": {
     "languageId": "java"
    }
   },
   "outputs": [],
   "source": [
    "Application.main(new String[0]);"
   ]
  },
  {
   "cell_type": "markdown",
   "id": "fd0f4714",
   "metadata": {},
   "source": [
    "### Graphen\n",
    "\n",
    "Wir benutzen nun etwas, was Sie in der diskreten Mathematik gelart haben, um abstrakte Klassen an einem weiteren Beispiel zu illustrieren: Graphen. Graphen sind recht allgemein, und ein äusserst wichtiges Objekt in der Informatik. Sie haben verschiedene Arten von Graphen kennengelernt, zum Beispiel gerichtete Graphen (directed graphs) oder Bäume (trees), die Gemeinsamkeiten, aber auch Unterschiede haben. Es kann daher sinnvoll sein, die Gemeinsmakeiten in einer abstrakten Klasse festzuhalten, und dann die Unterschiede via Vererbung umzusetzen."
   ]
  },
  {
   "cell_type": "markdown",
   "id": "d3a5e221-a4b7-4efa-bdd7-c27a8f7abd64",
   "metadata": {},
   "source": [
    "#### Miniübung\n",
    "\n",
    "Schreiben Sie eine abstrakte Klasse ```GeneralGraph```, die Graphen als Liste von Knoten (vertices) und Kanten (edges) repräsentiert. Die Klasse soll zudem zwei Methoden haben: eine, die die Anzahl der Knoten zurückgibt und eine, die die Anzahl der Kanten zurückgibt.\n",
    "\n",
    "* Wie würden Sie Knoten repräsentieren?\n",
    "\n",
    "* Wie würden Sie Kanten repräsentieren?"
   ]
  },
  {
   "cell_type": "code",
   "execution_count": null,
   "id": "75d76e1a-12a4-4668-8f31-4dade9c7e826",
   "metadata": {
    "vscode": {
     "languageId": "java"
    }
   },
   "outputs": [],
   "source": [
    "public abstract class GeneralGraph {\n",
    "\n",
    "    // Implementation missing\n",
    "    \n",
    "}"
   ]
  },
  {
   "cell_type": "markdown",
   "id": "4cc7b65d-5fe5-4a44-8f71-d6275eca3831",
   "metadata": {},
   "source": [
    "Wir schreiben nun eine Klasse ```Tree```, welche von der abstrakten Klasse ```GeneralGraph``` erbt. In dieser Klasse möchten wir einen Konstruktor haben, sowie eine Methode, die aus einer Menge von Knoten einen Stern konstruiert, das heisst, alle Knoten mit dem ersten Knoten in der Menge verbindet."
   ]
  },
  {
   "cell_type": "code",
   "execution_count": null,
   "id": "b36657e4-0c05-4620-9512-47e56f6a22b3",
   "metadata": {
    "vscode": {
     "languageId": "java"
    }
   },
   "outputs": [],
   "source": [
    "public class Tree extends GeneralGraph {\n",
    "\n",
    "    // Implementation missing\n",
    "    \n",
    "}"
   ]
  },
  {
   "cell_type": "markdown",
   "id": "ca13e317-4f3b-4625-8e2e-471c64fcd74a",
   "metadata": {},
   "source": [
    "Wir können unsere Klassen nun testen:"
   ]
  },
  {
   "cell_type": "code",
   "execution_count": null,
   "id": "1240dd97-b9b9-4fcf-aa3e-e4566895c70e",
   "metadata": {
    "vscode": {
     "languageId": "java"
    }
   },
   "outputs": [],
   "source": [
    "public class Test {\n",
    "    public static void main(String[] args){\n",
    "        int[] vertices = new int[] {0, 1, 2, 3, 4};\n",
    "        Tree star = Tree.buildStar(vertices);\n",
    "        System.out.println(star.numEdges());\n",
    "    }\n",
    "}"
   ]
  },
  {
   "cell_type": "code",
   "execution_count": null,
   "id": "7bba421e-8d66-4245-9c57-5ca156121eb2",
   "metadata": {
    "vscode": {
     "languageId": "java"
    }
   },
   "outputs": [],
   "source": [
    "Test.main(new String[0]);"
   ]
  }
 ],
 "metadata": {
  "kernelspec": {
   "display_name": "Java",
   "language": "java",
   "name": "java"
  },
  "language_info": {
   "codemirror_mode": "java",
   "file_extension": ".jshell",
   "mimetype": "text/x-java-source",
   "name": "Java",
   "pygments_lexer": "java",
   "version": "17.0.11+7-LTS-jvmci-23.0-b34"
  }
 },
 "nbformat": 4,
 "nbformat_minor": 5
}
