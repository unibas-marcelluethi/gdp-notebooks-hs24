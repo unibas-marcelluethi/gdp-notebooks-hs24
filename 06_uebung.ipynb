{
 "cells": [
  {
   "cell_type": "markdown",
   "id": "bff0762c",
   "metadata": {
    "deletable": false
   },
   "source": [
    "# Grundlagen der Programmierung  <br/> Übungsblatt 06 - Arrays\n",
    "#### Patrick Schnider, Marcel Lüthi<br/> Departement Mathematik und Informatik, Universität Basel"
   ]
  },
  {
   "cell_type": "markdown",
   "id": "537e49d2",
   "metadata": {
    "deletable": false
   },
   "source": [
    "### Aufgabe 1: Erzeugen eines Arrays [2 Punkte - autom. Tests]\n",
    "\n",
    "Implementieren Sie die Methode ```createMultiples```, welche zwei Parameter entgegennimmt.\n",
    "Die Methode soll ein `int`-Array einer gegebenen Länge mit den Vielfachen einer Zahl füllen und zurückgeben.\n",
    "Der erste Parameter ist eine Zahl, von welcher die Vielfachen berechnet werden sollen.\n",
    "Der zweite Parameter ist eine Zahl, welche die Anzahl Elemente angiebt.\n",
    "Die erste Zahl im Array soll die Zahl selbst sein.\n",
    "\n",
    "Bei einem Aufruf ```createMultiples(7,5)``` sollte also das Array ```[7,14,21,28,35]```zurückgegeben werden."
   ]
  },
  {
   "cell_type": "code",
   "execution_count": null,
   "id": "c0ab5db5",
   "metadata": {
    "deletable": false,
    "exercise_id": 1,
    "vscode": {
     "languageId": "java"
    }
   },
   "outputs": [],
   "source": [
    "public class Creator {\n",
    "    // Ihre Lösung kommt hier hin\n",
    "    \n",
    "    public static void main(String[] args) {\n",
    "        int[] arr = createMultiples(7,5);\n",
    "        System.out.println(java.util.Arrays.toString(arr));\n",
    "    }\n",
    "}"
   ]
  },
  {
   "cell_type": "code",
   "execution_count": null,
   "id": "6a0a3be6",
   "metadata": {
    "deletable": false,
    "vscode": {
     "languageId": "java"
    }
   },
   "outputs": [],
   "source": [
    "Creator.main(new String[0]);"
   ]
  },
  {
   "cell_type": "markdown",
   "id": "b52c2f1a",
   "metadata": {
    "deletable": false
   },
   "source": [
    "### Aufgabe 2: Summe aller Ziffern [2 Punkte - autom. Tests]\n",
    "\n",
    "Schreiben Sie eine Methode `sumNumbers`, welche einen Text übergeben bekommt. Schauen Sie sich jedes Zeichen im Text an, und addieren Sie alle Ziffern die Sie so finden. Geben Sie die Summe an den Aufrufer zurück. Verwenden Sie die Methode `charAt` um auf die Zeichen im Text zuzugreifen.\n",
    "\n",
    "Sie können folgende zwei Methoden nutzen:\n",
    "- `Character.isDigit` können Sie ein Zeichen übergeben, und bekommen `true` zurück, wenn das Zeichen eine Ziffer ist.\n",
    "- `Character.getNumericValue` könnnen Sie ein Zeichen übergeben, und bekommen dann die entsprechende Zahl als `int` zurück."
   ]
  },
  {
   "cell_type": "code",
   "execution_count": null,
   "id": "8ede1b67",
   "metadata": {
    "deletable": false,
    "exercise_id": 2,
    "vscode": {
     "languageId": "java"
    }
   },
   "outputs": [],
   "source": [
    "public class TextAdder {\n",
    "    // Ihre Lösung kommt hier hin\n",
    "    \n",
    "    public static void main(String[] args) {\n",
    "        System.out.println(sumNumbers(\"aa1d23c4tz5io0\"));\n",
    "    }\n",
    "}"
   ]
  },
  {
   "cell_type": "code",
   "execution_count": null,
   "id": "4f855351",
   "metadata": {
    "deletable": false,
    "vscode": {
     "languageId": "java"
    }
   },
   "outputs": [],
   "source": [
    "TextAdder.main(new String[0]);"
   ]
  },
  {
   "cell_type": "markdown",
   "id": "4298c701",
   "metadata": {
    "deletable": false
   },
   "source": [
    "### Aufgabe 3: Verkehrt anhängen [2 Punkte - autom. Tests]\n",
    "\n",
    "Schreiben Sie eine Methode `cat`, welche als Argument zwei `double`-Arrays entgegennimmt. Die beiden Arrays sollen zusammengehängt zurückgegeben werden, wobei das zweite Array in umgekehrter Reihenfolge an das erste angehängt werden soll."
   ]
  },
  {
   "cell_type": "code",
   "execution_count": null,
   "id": "94736624",
   "metadata": {
    "deletable": false,
    "exercise_id": 3,
    "vscode": {
     "languageId": "java"
    }
   },
   "outputs": [],
   "source": [
    "public class ReverseConcat {\n",
    "    // Ihre Lösung kommt hier hin\n",
    "\n",
    "    public static void main(String[] args) {\n",
    "        double[] arr1 = { 1.0, 2.0, 3.0};\n",
    "        double[] arr2 = { 9.0, 8.0, 7.0, 6.0, 5.0, 4.0};\n",
    "        System.out.println(java.util.Arrays.toString(cat(arr1, arr2)));\n",
    "    }\n",
    "}"
   ]
  },
  {
   "cell_type": "code",
   "execution_count": null,
   "id": "1c3a2b0d",
   "metadata": {
    "deletable": false,
    "vscode": {
     "languageId": "java"
    }
   },
   "outputs": [],
   "source": [
    "ReverseConcat.main(new String[0]);"
   ]
  },
  {
   "cell_type": "markdown",
   "id": "e5992d78",
   "metadata": {
    "deletable": false
   },
   "source": [
    "### Aufgabe 4: Fitze Fatze streichen [2 Punkte - autom. Tests]\n",
    "\n",
    "Schreiben Sie eine Methode `eliminate`, welche aus einem `int`-Array alle Elemente entfernt, welche durch 3 oder durch 5, aber nicht durch beide teilbar sind. Die verbleibenden Elemente sollen in der selben Reihenfolge in einem neuen Array zurückgegeben werden. Dabei soll das zurückgegebene Array nur die benötigte Länge haben."
   ]
  },
  {
   "cell_type": "code",
   "execution_count": null,
   "id": "98240133",
   "metadata": {
    "deletable": false,
    "exercise_id": 4,
    "vscode": {
     "languageId": "java"
    }
   },
   "outputs": [],
   "source": [
    "public class FitzeFatzeArray {\n",
    "    // Ihre Lösung kommt hier hin\n",
    "    \n",
    "    public static void main(String[] args) {\n",
    "        System.out.println(java.util.Arrays.toString(\n",
    "            eliminate(new int[]{3, 5, 6, 7, 2, 1, 15, 24, 25, 30, 33})\n",
    "        ));\n",
    "    }\n",
    "}"
   ]
  },
  {
   "cell_type": "code",
   "execution_count": null,
   "id": "09bd409c",
   "metadata": {
    "deletable": false,
    "vscode": {
     "languageId": "java"
    }
   },
   "outputs": [],
   "source": [
    "FitzeFatzeArray.main(new String[0]);"
   ]
  },
  {
   "cell_type": "markdown",
   "id": "47c98ca1",
   "metadata": {
    "deletable": false
   },
   "source": [
    "### Aufgabe 5: Suchen im Array [4 Punkte - autom. Tests]\n",
    "\n",
    "Schreiben Sie eine Methode `findFirst`, welche ein Element in einem Array sucht. Das `char`-Array wird als erster, das zu suchende Zeichen als zweiter Parameter übergeben. Geben Sie den Index des ersten Vorkommens des gesuchten Zeichen im Array zurück, oder -1 wenn das Zeichen nicht vorkommt."
   ]
  },
  {
   "cell_type": "code",
   "execution_count": null,
   "id": "5e0dd31e",
   "metadata": {
    "deletable": false,
    "exercise_id": 5,
    "vscode": {
     "languageId": "java"
    }
   },
   "outputs": [],
   "source": [
    "public class FindInArray {\n",
    "    // Ihre Lösung kommt hier hin\n",
    "    \n",
    "    public static void main(String[] args) {\n",
    "        System.out.println(findFirst(\"UniverstitätBasel\".toCharArray(), 'e'));\n",
    "        System.out.println(findFirst(\"UniverstitätBasel\".toCharArray(), 'i'));\n",
    "        System.out.println(findFirst(\"UniverstitätBasel\".toCharArray(), 'y'));\n",
    "    }\n",
    "}"
   ]
  },
  {
   "cell_type": "code",
   "execution_count": null,
   "id": "3c94a576",
   "metadata": {
    "deletable": false,
    "vscode": {
     "languageId": "java"
    }
   },
   "outputs": [],
   "source": [
    "FindInArray.main(new String[0]);"
   ]
  },
  {
   "cell_type": "markdown",
   "id": "b52800eb",
   "metadata": {
    "deletable": false
   },
   "source": [
    "### Aufgabe 6: Flatten [5 Punkte - autom. Tests]\n",
    "\n",
    "Schreiben Sie eine Methode `flatten`, welche ein 2d-Array in ein 1d-Array umwandelt und zurückgibt. Dabei sollen die Arrays der Reihe nach hintereinander angehängt werden. Die Arrays beinhalten ganze Zahlen."
   ]
  },
  {
   "cell_type": "code",
   "execution_count": null,
   "id": "dd36a18e",
   "metadata": {
    "deletable": false,
    "exercise_id": 6,
    "vscode": {
     "languageId": "java"
    }
   },
   "outputs": [],
   "source": [
    "public class Flatten {\n",
    "    // Ihre Lösung kommt hier hin\n",
    "    \n",
    "    public static void main(String[] args) {\n",
    "        System.out.println(java.util.Arrays.toString(\n",
    "            flatten(new int[][]{\n",
    "                {1,2},\n",
    "                {},\n",
    "                {3,4,5,6},\n",
    "                {7},\n",
    "                {8,9,10}\n",
    "            })\n",
    "        ));\n",
    "    }\n",
    "}"
   ]
  },
  {
   "cell_type": "code",
   "execution_count": null,
   "id": "903e83d3",
   "metadata": {
    "deletable": false,
    "vscode": {
     "languageId": "java"
    }
   },
   "outputs": [],
   "source": [
    "Flatten.main(new String[0]);"
   ]
  },
  {
   "cell_type": "markdown",
   "id": "8e649f7f",
   "metadata": {
    "deletable": false
   },
   "source": [
    "### Aufgabe 7: Nachbarn im Game-of-Life [6 Punkte - autom. Tests]\n",
    "\n",
    "Interessierte können sich diese [Seite](https://playgameoflife.com/) zum **Game-of-Life** anschauen. Dort finden Sie einerseits das Spiel zum ausprobieren, aber auch die Regeln und kurze Videos dazu.\n",
    "\n",
    "In dieser Aufgabe implementieren wir nur zwei Methoden.\n",
    "\n",
    "- Die erste Aufgabe ist es, die Methode `access` zu implementieren. Die Methode bekommt als Parameter ein 2d `boolean` Array sowie die Zeile und die Spalte, auf die zugegriffen werden soll, und gibt den boolean Wert an dieser Stelle zurück. Ist ein Zugriff ausserhalb des Arrays gefragt, soll jeweils auf der anderen Seite des Arrays zugegriffen werden, es soll also ein zyklischer Zugriff realisiert werden. Wenn Sie also zum Beispiel in einem 2d-Array mit 4 Zeilen und 4 Spalten (jeweils indexiert von 0 bis 3) auf den Index ```[5][0]``` zugreifen möchten, sollte stattdessen af den Index ```[1][0]``` zugegriffen werden.\n",
    "- Die zweite Aufgabe ist es, die Methode `countNeighbours` zu implementieren. Verwenden Sie hierzu die Methode `access`. Es soll für eine Zelle, definiert durch Zeile und Spalte, in einem 2d boolean Array die Anzahl lebenden (`true`) Nachbarn gezählt und zurückgegeben werden."
   ]
  },
  {
   "cell_type": "code",
   "execution_count": null,
   "id": "a8e243c9",
   "metadata": {
    "deletable": false,
    "exercise_id": 7,
    "vscode": {
     "languageId": "java"
    }
   },
   "outputs": [],
   "source": [
    "public class GameOfLife {\n",
    "    // Ihre Lösung kommt hier hin\n",
    "\n",
    "    public static void main(String[] args) {\n",
    "        boolean[][] field = {\n",
    "            {false, false,  true, false},\n",
    "            { true, false,  true, false},\n",
    "            {false,  true,  true, false},\n",
    "            {false, true, false, false}\n",
    "        };\n",
    "        System.out.println(access(field,-2,-2)); // should return `true`\n",
    "        System.out.println(countNeighbours(field,3,2)); // should return 4\n",
    "    }\n",
    "}"
   ]
  },
  {
   "cell_type": "code",
   "execution_count": null,
   "id": "136b0824",
   "metadata": {
    "deletable": false,
    "vscode": {
     "languageId": "java"
    }
   },
   "outputs": [],
   "source": [
    "GameOfLife.main(new String[0]);"
   ]
  },
  {
   "cell_type": "markdown",
   "id": "a3ce573a",
   "metadata": {
    "deletable": false
   },
   "source": [
    "### Aufgabe 8: Jagged Arrays [5 Punkte - autom. Tests]\n",
    "Schreiben Sie eine Methode `create`, welche ein `int`-Array übergeben bekommt und ein 2d `int` Array erstellt und zurückgibt. Das Array, welches als Parameter übergeben wird, gibt die Längen der Arrays im 2d Array an. Initialisieren Sie die Elemente jedes Arrays jeweils mit dem Wert des Index für den Zugriff.\n",
    "\n",
    "##### Beispiel:\n",
    "Für den Aufruf `create(new int[]{5,1,0,7,8})` \n",
    "produziert folgende Ausgabe:\n",
    "\n",
    "``` \n",
    "[0, 1, 2, 3, 4]\n",
    "[0]\n",
    "[]\n",
    "[0, 1, 2, 3, 4, 5, 6]\n",
    "[0, 1, 2, 3, 4, 5, 6, 7]\n",
    "```\n"
   ]
  },
  {
   "cell_type": "code",
   "execution_count": null,
   "id": "901c319b",
   "metadata": {
    "deletable": false,
    "exercise_id": 8,
    "vscode": {
     "languageId": "java"
    }
   },
   "outputs": [],
   "source": [
    "public class JaggedArrays {\n",
    "    // Ihre Lösung kommt hier hin\n",
    "    \n",
    "    public static void main(String[] args) {\n",
    "        int[][] arr = create(new int[]{5,1,0,7,8});\n",
    "        for(int[] row : arr) {\n",
    "            System.out.println(java.util.Arrays.toString(row));\n",
    "        }\n",
    "    }\n",
    "}"
   ]
  },
  {
   "cell_type": "code",
   "execution_count": null,
   "id": "61db8f56",
   "metadata": {
    "deletable": false,
    "vscode": {
     "languageId": "java"
    }
   },
   "outputs": [],
   "source": [
    "JaggedArrays.main(new String[0]);"
   ]
  },
  {
   "cell_type": "code",
   "execution_count": null,
   "id": "3fa38a57",
   "metadata": {
    "vscode": {
     "languageId": "java"
    }
   },
   "outputs": [],
   "source": []
  }
 ],
 "metadata": {
  "exercise_series": "gdp",
  "kernelspec": {
   "display_name": "Java [conda env:ijava]",
   "language": "java",
   "name": "conda-env-ijava-java"
  },
  "language_info": {
   "codemirror_mode": "java",
   "file_extension": ".jshell",
   "mimetype": "text/x-java-source",
   "name": "Java",
   "pygments_lexer": "java",
   "version": "17.0.3-internal+0-adhoc..src"
  },
  "notebook_id": 106
 },
 "nbformat": 4,
 "nbformat_minor": 5
}
