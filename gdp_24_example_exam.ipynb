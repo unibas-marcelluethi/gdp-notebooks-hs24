{
 "cells": [
  {
   "cell_type": "markdown",
   "id": "bd1f3523",
   "metadata": {
    "deletable": false,
    "editable": false
   },
   "source": [
    "# Übungen: Grundlagen der Programmierung: Beispielprüfung\n",
    "\n",
    "### Herbstsemester 2024\n"
   ]
  },
  {
   "cell_type": "markdown",
   "id": "35b92833",
   "metadata": {
    "deletable": false
   },
   "source": [
    "### Aufgabe 1: Warm-up\n",
    "\n",
    "Schreiben Sie eine Klassenmethode `isPalindrom`, welche für ein als Argument übergebenes Wort entscheidet, ob es sich beim Wort um ein Palindrom handelt. Ein Palindrom ist ein Wort, welches von vorne und hinten gelsen identisch ist (siehe Beispiele in der main-Methode).\n",
    "Entsprechend sollte die Methode entweder `true` oder `false` zurückgeben je nachdem ob es sich um ein Palindrom handelt. Sie können dabei annehmen, dass das Wort weder Sonderzeichen noch Leerzeichen enthält und nur aus Kleinbuchstaben besteht. Sie müssen diese Dinge also nicht speziell behandeln. \n",
    "\n",
    "Falls nötigen, können Sie über diesen Link auf die Dokumentation der Klasse [String](https://docs.oracle.com/en/java/javase/17/docs/api/java.base/java/lang/String.html) zugreifen. \n"
   ]
  },
  {
   "cell_type": "code",
   "execution_count": 1,
   "id": "df8db84b",
   "metadata": {
    "deletable": false,
    "exercise_id": 1,
    "vscode": {
     "languageId": "java"
    }
   },
   "outputs": [],
   "source": [
    "class WarmUp {\n",
    "\n",
    "    public static boolean isPalindrom(String word) {\n",
    "        // Ihre Lösung\n",
    "        return true;\n",
    "    }\n",
    "    \n",
    "    public static void main(String[] args) {\n",
    "        System.out.println(isPalindrom(\"anna\")); // sollte true ergeben\n",
    "        System.out.println(isPalindrom(\"andi\")); // sollte false ergeben\n",
    "        System.out.println(isPalindrom(\"oho\")); // sollte true ergeben   \n",
    "    }\n",
    "}"
   ]
  },
  {
   "cell_type": "code",
   "execution_count": null,
   "id": "e40e2db8",
   "metadata": {
    "vscode": {
     "languageId": "java"
    }
   },
   "outputs": [],
   "source": [
    "WarmUp.main(new String[0]);"
   ]
  },
  {
   "cell_type": "markdown",
   "id": "a5ae5a84",
   "metadata": {
    "deletable": false
   },
   "source": [
    "### Aufgabe 2: Mehrdimensionale Arrays\n",
    "\n",
    "Schreiben Sie eine Klassenmethode `arraysOf`, welches ein Array von positiven Ganzzahlen `a` entgegennimmt und ein Array von Arrays von Ganzzahlen zurückgibt. Das $i$-te Array soll dabei die Länge $i$ haben und die Zahlen $1$ bis (und mit) $a[i]$ in aufsteigender Reihenfolge enthalten.\n",
    "\n",
    "Beispiel: Der Aufruf `arraysOf(new int[]{2, 4})` soll das Array `{{1, 2}, {1, 2, 3, 4}}` zurückgeben. \n",
    "\n",
    " \n",
    "\n"
   ]
  },
  {
   "cell_type": "code",
   "execution_count": null,
   "id": "4c7e695f",
   "metadata": {
    "deletable": false,
    "exercise_id": 2,
    "vscode": {
     "languageId": "java"
    }
   },
   "outputs": [],
   "source": [
    "class MultidimensionalArray {\n",
    "\n",
    "    \n",
    "    // Ihre Lösung\n",
    "    \n",
    "    \n",
    "    public static void main(String[] args) {\n",
    "        System.out.println(Arrays.deepToString(arraysOf(new int[]{2, 4})));\n",
    "    }\n",
    "}"
   ]
  },
  {
   "cell_type": "code",
   "execution_count": null,
   "id": "9fec43cf",
   "metadata": {
    "deletable": false,
    "vscode": {
     "languageId": "java"
    }
   },
   "outputs": [],
   "source": [
    "MultidimensionalArray.main(new String[0]);"
   ]
  },
  {
   "cell_type": "markdown",
   "id": "914f7816",
   "metadata": {
    "deletable": false
   },
   "source": [
    "### Aufgabe 3: Klassen und Objekte\n",
    "\n",
    "Schreiben Sie eine Klasse Temperature. Diese soll die Temperatur (eine reelle Zahl) sowie die Einheit der Temperatur (ein String)  in, als privat deklarierten, Feldern speichern. Definieren Sie zusätzlich zwei öffentliche Konstanten vom Typ String mit dem Namen *CELSIUS*  und *KELVIN*, welche zwei mögliche Einheiten für die Temperatur definieren. \n",
    "\n",
    "Schreiben Sie einen Konstruktor, mittels welchem Sie Instanzen der Klasse durch Angabe der Temperatur und der Einheit erstellen können. Erstellen Sie ein Objekt, welches die Temperatur 3 Grad Celsius repräsentiert. "
   ]
  },
  {
   "cell_type": "code",
   "execution_count": null,
   "id": "a7b86e4a",
   "metadata": {
    "deletable": false,
    "exercise_id": 3,
    "vscode": {
     "languageId": "java"
    }
   },
   "outputs": [],
   "source": [
    "class ClassesAndObjects {\n",
    "    \n",
    "    public static void main(String[] args) {\n",
    "        // In dieser Klasse können Sie die Instanzen der Klasse Temperature erstellen        \n",
    "    }\n",
    "    \n",
    "}\n"
   ]
  },
  {
   "cell_type": "code",
   "execution_count": null,
   "id": "331eb62b",
   "metadata": {
    "deletable": false,
    "vscode": {
     "languageId": "java"
    }
   },
   "outputs": [],
   "source": [
    "ClassesAndObjects.main(new String[0]);"
   ]
  },
  {
   "cell_type": "markdown",
   "id": "ec6b957c",
   "metadata": {
    "deletable": false
   },
   "source": [
    "### Aufgabe 4:  Interfaces\n",
    "\n",
    "Gegeben ist das Interface `CanPrint` das wie folgt definiert ist:\n",
    "\n",
    "```java \n",
    "interface CanPrint {\n",
    "  // Gibt den von einem Objekt repräsentierten Wert aus.\n",
    "  void print();\n",
    "};\n",
    "```\n",
    "\n",
    "Implementieren Sie eine Klasse `MyInteger`, welche, wie `Integer` ganze Zahlen repräsentiert. Die Klasse `MyInteger` soll aber das Interface `CanPrint` implementieren. Im Konstruktor soll die repräsentierte Zahl (ein `int`) als Argument angegeben werden können und in einem Feld gespeichert werden. Implementieren Sie dann eine Klassenmethode `printIt` in der Klasse `Printer`, welches eine Instanzen des Typs `CanPrint` als Argument entgegennimmt und diese dann mittels Aufruf der `print` Methode ausgibt. "
   ]
  },
  {
   "cell_type": "code",
   "execution_count": 2,
   "id": "55a5e720",
   "metadata": {
    "deletable": false,
    "exercise_id": 4,
    "vscode": {
     "languageId": "java"
    }
   },
   "outputs": [],
   "source": [
    "interface CanPrint {\n",
    "  // Gibt den von einem Objekt repräsentierten Wert aus.\n",
    "  void print();\n",
    "};\n",
    "\n",
    "\n",
    "// Ihre Implementation von MyInteger\n",
    "\n",
    "\n",
    "class Printer {\n",
    "    \n",
    "    // Ihre Implementation von printIt\n",
    "\n",
    "    \n",
    "    public static void main(String[] args) {\n",
    "        \n",
    "        // Zum Testen kommentieren Sie diesen Code aus\n",
    "        /* \n",
    "        MyInteger myInt = new MyInteger(2);\n",
    "        printIt(myInt);\n",
    "        */\n",
    "    }\n",
    "}"
   ]
  },
  {
   "cell_type": "code",
   "execution_count": 3,
   "id": "4e6cd6a5",
   "metadata": {
    "deletable": false,
    "vscode": {
     "languageId": "java"
    }
   },
   "outputs": [],
   "source": [
    "Printer.main(new String[0]);"
   ]
  },
  {
   "cell_type": "markdown",
   "id": "dcef215d",
   "metadata": {
    "deletable": false
   },
   "source": [
    "### Aufgabe 5: Gleichheit von Objekten\n",
    "\n",
    "Gegeben ist die Klasse `Fraction`, welche einen Bruch repräsentiert. Leider werden Instanzen dieser Klassen nicht richtig verglichen. Ergänzen Sie den Code, so dass folgender Code `true` ausgibt. \n",
    "\n",
    "```java\n",
    "\n",
    "Fraction f1 = new Fraction(3, 5);\n",
    "Fraction f2 = new Fraction(3, 5);\n",
    "System.out.println(f1.equals(f2));\n",
    "```\n",
    "\n",
    "Sie müssen bei Ihrer Lösung nicht auf gekürzte Brüche Rücksicht nehmen.\n",
    "\n",
    "Hinweis: Sie müssen dafür die `equals` Methode überschreiben, die auf der Klasse [Object](https://docs.oracle.com/en/java/javase/17/docs/api/java.base/java/lang/Object.html#equals(java.lang.Object)) definiert ist."
   ]
  },
  {
   "cell_type": "code",
   "execution_count": null,
   "id": "28e65cf7",
   "metadata": {
    "deletable": false,
    "exercise_id": 5,
    "vscode": {
     "languageId": "java"
    }
   },
   "outputs": [],
   "source": [
    "class Fraction {\n",
    "    \n",
    "    int numerator;\n",
    "    int denominator;\n",
    "    \n",
    "    public Fraction(int numerator, int denominator) {\n",
    "        this.numerator = numerator;\n",
    "        this.denominator = denominator;\n",
    "    }                   \n",
    "    \n",
    "    public static void main(String[] args) {\n",
    "        Fraction f1 = new Fraction(3, 5);\n",
    "        Fraction f2 = new Fraction(3, 5);\n",
    "        System.out.println(f1.equals(f2));\n",
    "    }\n",
    "    \n",
    "}"
   ]
  },
  {
   "cell_type": "code",
   "execution_count": null,
   "id": "a16c098d",
   "metadata": {
    "deletable": false,
    "vscode": {
     "languageId": "java"
    }
   },
   "outputs": [],
   "source": [
    "Fraction.main(new String[0]);"
   ]
  },
  {
   "cell_type": "markdown",
   "id": "dc18d371",
   "metadata": {
    "deletable": false
   },
   "source": [
    "### Aufgabe 6: Fehlerbehandlung\n",
    "\n",
    "Wenn Sie die untenstehende Klasse ausführen sehen Sie, dass die Methode `divide` bei \n",
    "Division durch 0 `Infinity` zurückgibt. Dies kann in einer Berechnung zu unerwarten Ergebnissen führen. Ändern Sie die Methode so ab, dass die Methode statt einem double ein entsprechendes `Optional` zurückgibt. Die Main Methode soll so angepasst werden, dass bei korrekter Rechnung das Resultat der Division ausgegeben wird. Falls das Optional den Wert `empty` hat, soll eine entsprechende Fehlermeldung ausgegeben werden. \n",
    "\n",
    "```java\n",
    "class Divider {\n",
    "    public static double divide(double a, double b) {\n",
    "        return a / b;\n",
    "    }\n",
    "    \n",
    "    public static void main(String[] args) {\n",
    "        System.out.println(divide(3, 0));\n",
    "    }\n",
    "}\n",
    "```\n",
    "\n",
    "Sie finden die Dokumentation zu Optional hier:\n",
    "\n",
    "* [API Doc für Optional](https://docs.oracle.com/en/java/javase/17/docs/api/java.base/java/util/Optional.html)\n",
    "\n"
   ]
  },
  {
   "cell_type": "code",
   "execution_count": null,
   "id": "065596f9",
   "metadata": {
    "deletable": false,
    "exercise_id": 6,
    "vscode": {
     "languageId": "java"
    }
   },
   "outputs": [],
   "source": [
    "class Divider {\n",
    "    public static double divide(double a, double b) {\n",
    "        return a / b;\n",
    "    }\n",
    "    \n",
    "    public static void main(String[] args) {\n",
    "        System.out.println(divide(3, 0));\n",
    "    }\n",
    "}"
   ]
  },
  {
   "cell_type": "code",
   "execution_count": null,
   "id": "dd5cb60f",
   "metadata": {
    "deletable": false,
    "vscode": {
     "languageId": "java"
    }
   },
   "outputs": [],
   "source": [
    "Divider.main(new String[0]);"
   ]
  },
  {
   "cell_type": "markdown",
   "id": "16243dbb",
   "metadata": {
    "deletable": false
   },
   "source": [
    "### Aufgabe 7: Verkettete Listen (7 Punkte)\n",
    "\n",
    "Gegeben ist das folgende Fragment einer verketteten Liste. Implementieren Sie die Methode `append`, welche ein übergebenes Element am Ende der Liste einfügt. \n",
    "\n",
    "```java\n",
    "class Node<T> {\n",
    "    T value;\n",
    "    Node<T> next;\n",
    "    \n",
    "    \n",
    "    public Node(T value) { \n",
    "        this.value = value;\n",
    "        this.next = null;\n",
    "    }\n",
    "}\n",
    "\n",
    "class MyLinkedList<T> {\n",
    "    \n",
    "    Node<T> first; // zeigt auf erstes Element in der Liste\n",
    "    Node<T> last;  // zeigt auf letztes Element in der Liste\n",
    "    \n",
    "    MyLinkedList() { \n",
    "        this.first = null;\n",
    "        this.last = null;\n",
    "    }\n",
    "    \n",
    " \n",
    "    void print() {\n",
    "    \n",
    "        for (Node<T> curr = this.first; curr != null; curr = curr.next) {\n",
    "            System.out.print(curr.value);\n",
    "            System.out.print(\" \");\n",
    "        }\n",
    "        System.out.println(\"\");\n",
    "    }\n",
    "}\n",
    "```"
   ]
  },
  {
   "cell_type": "code",
   "execution_count": 4,
   "id": "57db2b31",
   "metadata": {
    "deletable": false,
    "exercise_id": 7,
    "vscode": {
     "languageId": "java"
    }
   },
   "outputs": [],
   "source": [
    "class Node<T> {\n",
    "    T value;\n",
    "    Node<T> next;\n",
    "    \n",
    "    \n",
    "    public Node(T value) { \n",
    "        this.value = value;\n",
    "        this.next = null;\n",
    "    }\n",
    "}\n",
    "\n",
    "class MyLinkedList<T> {\n",
    "    \n",
    "    Node<T> first; // zeigt auf erstes Element in der Liste\n",
    "    Node<T> last;  // zeigt auf letztes Element in der Liste\n",
    "    \n",
    "    MyLinkedList() { \n",
    "        this.first = null;\n",
    "        this.last = null;\n",
    "    }\n",
    "        \n",
    "    public void append(T value) {\n",
    "        /** Ihre Implementation */\n",
    "    }\n",
    "    \n",
    "    public void print() {\n",
    "    \n",
    "        for (Node<T> curr = this.first; curr != null; curr = curr.next) {\n",
    "            System.out.print(curr.value);\n",
    "            System.out.print(\" \");\n",
    "        }\n",
    "        System.out.println(\"\");\n",
    "    }\n",
    "    \n",
    "    public static void main(String[] args) {\n",
    "        // Testen Sie Ihre Methode hier\n",
    "        MyLinkedList<String> l = new MyLinkedList<String>();\n",
    "        l.append(\"a\");\n",
    "        l.append(\"b\");\n",
    "        l.append(\"c\");        \n",
    "        l.print();\n",
    "    }\n",
    "}"
   ]
  },
  {
   "cell_type": "code",
   "execution_count": 5,
   "id": "1f2f83a1",
   "metadata": {
    "deletable": false,
    "vscode": {
     "languageId": "java"
    }
   },
   "outputs": [
    {
     "name": "stdout",
     "output_type": "stream",
     "text": [
      "\r\n"
     ]
    }
   ],
   "source": [
    "MyLinkedList.main(new String[0]);"
   ]
  }
 ],
 "metadata": {
  "celltoolbar": "Edit Metadata",
  "exercise_series": "gdp",
  "kernelspec": {
   "display_name": "Java",
   "language": "java",
   "name": "java"
  },
  "language_info": {
   "codemirror_mode": "java",
   "file_extension": ".jshell",
   "mimetype": "text/x-java-source",
   "name": "Java",
   "pygments_lexer": "java",
   "version": "19.0.2+7"
  },
  "notebook_id": 2302
 },
 "nbformat": 4,
 "nbformat_minor": 5
}
