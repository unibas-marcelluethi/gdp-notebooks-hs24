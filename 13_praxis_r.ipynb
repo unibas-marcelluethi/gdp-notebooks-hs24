{
 "cells": [
  {
   "cell_type": "markdown",
   "id": "e0c58392",
   "metadata": {},
   "source": [
    "# Gleiche Konzepte, andere Sprache\n",
    "## Beispiel 2: R\n",
    "#### Patrick Schnider, Marcel Lüthi<br/>Departement Mathematik und Informatik, Universität Basel"
   ]
  },
  {
   "cell_type": "markdown",
   "id": "8264f3ec-30b3-445b-8976-0fe83dc0b171",
   "metadata": {},
   "source": [
    "Wir machen nun das Selbe wie im vorherigen Notebook, einfach in der Sprache R.\n",
    "\n",
    "### Grundbausteine\n",
    "\n",
    "#### Übung\n",
    "* Gehen Sie Zelle für Zelle durch die folgenden einfachen Codebeispiele\n",
    "* Welche Ausgabe erwarten Sie? Lassen Sie die Zellen laufen und vergleichen Sie die tatsächliche Ausgabe mit Ihrer Erwartung.\n",
    "* Vergleichen Sie die Ausgabe mit der Ausgabe im Python-Notebook. Was für Unterschiede sehen Sie?"
   ]
  },
  {
   "cell_type": "code",
   "execution_count": null,
   "id": "0743a18d-c481-42d3-96b6-8655ffbadc2a",
   "metadata": {
    "vscode": {
     "languageId": "r"
    }
   },
   "outputs": [],
   "source": [
    "print(\"Hello World\")\n",
    "print(1 + 1)\n",
    "# Dies ist ein Kommentar"
   ]
  },
  {
   "cell_type": "code",
   "execution_count": null,
   "id": "1e8feaa7-15f7-44b2-8b95-9bfec654eff2",
   "metadata": {
    "vscode": {
     "languageId": "r"
    }
   },
   "outputs": [],
   "source": [
    "a <- 3\n",
    "b <- 5\n",
    "print(a + b)"
   ]
  },
  {
   "cell_type": "code",
   "execution_count": null,
   "id": "90f76c27-b93b-4895-a986-c78daebed4c4",
   "metadata": {
    "vscode": {
     "languageId": "r"
    }
   },
   "outputs": [],
   "source": [
    "l <- c(1,2,3,4)\n",
    "print(l)\n",
    "print(l[2])\n",
    "l <- c(l, 5)\n",
    "l[2] <- 7\n",
    "print(l)"
   ]
  },
  {
   "cell_type": "code",
   "execution_count": null,
   "id": "d2ecd2dc-8e16-4e87-be71-e879c18acf0e",
   "metadata": {
    "vscode": {
     "languageId": "r"
    }
   },
   "outputs": [],
   "source": [
    "for (element in l){\n",
    "    print(element)\n",
    "}"
   ]
  },
  {
   "cell_type": "code",
   "execution_count": null,
   "id": "9eb62194-f7b0-45a6-a1cb-b925ff1770b1",
   "metadata": {
    "vscode": {
     "languageId": "r"
    }
   },
   "outputs": [],
   "source": [
    "for (i in 0:10){\n",
    "    print(i)\n",
    "}"
   ]
  },
  {
   "cell_type": "code",
   "execution_count": null,
   "id": "edcc3244-a669-486a-8f61-fec7aa5116b6",
   "metadata": {
    "vscode": {
     "languageId": "r"
    }
   },
   "outputs": [],
   "source": [
    "add <- function(a, b){\n",
    "    return(a + b)\n",
    "}\n",
    "\n",
    "c <- add(3, 5)\n",
    "print(c)"
   ]
  },
  {
   "cell_type": "code",
   "execution_count": null,
   "id": "99542fb7-6145-4112-be16-2484116a2c64",
   "metadata": {
    "vscode": {
     "languageId": "r"
    }
   },
   "outputs": [],
   "source": [
    "circumference <- function(r){\n",
    "    return(2*pi*r)\n",
    "}\n",
    "\n",
    "print(circumference(2))"
   ]
  },
  {
   "cell_type": "code",
   "execution_count": null,
   "id": "c5060944-d53c-46a1-b99b-1321c1fa81ea",
   "metadata": {
    "vscode": {
     "languageId": "r"
    }
   },
   "outputs": [],
   "source": [
    "is_even <- function(n){\n",
    "    if (n %% 2 == 0){\n",
    "        print(\"even\")\n",
    "    }\n",
    "    else {\n",
    "        print(\"odd\")\n",
    "    }\n",
    "}\n",
    "\n",
    "is_even(5)\n",
    "is_even(4)"
   ]
  },
  {
   "cell_type": "markdown",
   "id": "8cb9cef2-68ee-4273-94e7-f67912036c62",
   "metadata": {},
   "source": [
    "Die obigen Codebeispiele geben uns genügend Information über die Syntax von R, dass wir selber kleine Programme schreiben können. Auch hier möchten wir eine Methode schreiben, die die $n$'te Fibonacci-Zahl $f_n$ berechnet. Zur Erinnerung, die Fibonacci-Zahlen sind wie folgt definiert:\n",
    "* $f_0=f_1=1$\n",
    "* $f_n=f_{n-1} + f_{n-2}$\n",
    "\n",
    "#### Übung\n",
    "* Schreiben Sie eine Methode, die die $n$'te Fibonacci-Zahl berechnet und zurückgibt.\n",
    "* Schreiben Sie danach eine Liste, die die Fibonacci-Zahlen $f_0$,...,$f_6$ enthält."
   ]
  },
  {
   "cell_type": "code",
   "execution_count": null,
   "id": "90f51012-1af2-420a-8635-be8e632d7968",
   "metadata": {
    "vscode": {
     "languageId": "r"
    }
   },
   "outputs": [],
   "source": [
    "# Implementation missing"
   ]
  },
  {
   "cell_type": "markdown",
   "id": "a0060762-0ad3-4e41-9f7e-d5ebdcdfa9b9",
   "metadata": {},
   "source": [
    "### Objektorientierung\n",
    "\n",
    "Auch in R kann man eigen Klassen schreiben. Als Beispiel hier wieder eine Klasse, die komplexe Zahlen repräsentiert, und Addition und Multiplikation erlaubt."
   ]
  },
  {
   "cell_type": "code",
   "execution_count": null,
   "id": "22bd3263-d658-40d6-b458-d3d2af28976f",
   "metadata": {
    "vscode": {
     "languageId": "r"
    }
   },
   "outputs": [],
   "source": [
    "#Definiert eine neue Klasse\n",
    "setClass(\"complex_num\", slots = list(real = \"numeric\", imag = \"numeric\"))\n",
    "\n",
    "#Konstruktor\n",
    "setMethod(\"initialize\", \"complex_num\", function(.Object, real, imag) {\n",
    "  .Object@real <- real\n",
    "  .Object@imag <- imag\n",
    "  return(.Object)\n",
    "})\n",
    "\n",
    "#Definiert eine generische Methode \"add\"\n",
    "setGeneric(\"add\", function(e1, e2) standardGeneric(\"add\"))\n",
    "           \n",
    "#Implementiert die Methode \"add\" für zwei Objekte des Typs \"complex_num\"\n",
    "setMethod(\"add\", c(\"complex_num\", \"complex_num\"), function(e1, e2) {\n",
    "  new_real <- e1@real + e2@real\n",
    "  new_imag <- e1@imag + e2@imag\n",
    "  return(new(\"complex_num\", real = new_real, imag = new_imag))\n",
    "})\n",
    "\n",
    "#Definiert eine generische Methode \"multiply\"\n",
    "setGeneric(\"multiply\", function(e1, e2) standardGeneric(\"multiply\"))\n",
    "           \n",
    "#Implementiert die Methode \"multiply\" für zwei Objekte des Typs \"complex_num\"\n",
    "setMethod(\"multiply\", c(\"complex_num\", \"complex_num\"), function(e1, e2) {\n",
    "    new_real <- e1@real * e2@real - e1@imag * e2@imag\n",
    "    new_imag <- e1@real * e2@imag + e1@imag * e2@real\n",
    "    return(new(\"complex_num\", real = new_real, imag = new_imag))\n",
    "})\n",
    "\n",
    "#Implementiert die (für andere Objekte bereits bekannte) Methode \"show\" für Objekte des Typs \"complex_num\"           \n",
    "setMethod(\"show\", \"complex_num\", function(object) {\n",
    "  return(cat(object@real, \"+\", object@imag, \"i\", \"\\n\"))\n",
    "})\n",
    "\n",
    "a <- new(\"complex_num\", real = 3, imag = 4)\n",
    "b <- new(\"complex_num\", real = 1, imag = 2)\n",
    "print(add(a,b))\n",
    "print(multiply(a,b))"
   ]
  },
  {
   "cell_type": "markdown",
   "id": "0da17737-2e4a-4875-8197-be5c4895a9ec",
   "metadata": {},
   "source": [
    "#### Übung\n",
    "* Schreiben Sie eine Klasse ```complex_vec```, die 2-Dimensionale Vektoren von komplexen Zahlen repräsentieren, d.h., Tupel $(a,b)$, wobei $a,b\\in\\mathbb{C}$.\n",
    "* Die Klasse soll eine Methode ```scalar_product``` haben, die das Skalarprodukt von zwei Vektoren berechnet. Zur Erinnerung, das Skalarprodukt von zwei Vektoren $X=(x_1, x_2)$ und $Y=(y_1, y_2)$ ist definiert als $x_1\\cdot y_1 + x_2\\cdot y_2$. In unserem Fall ist das ergebnis also eine komplexe Zahl."
   ]
  },
  {
   "cell_type": "code",
   "execution_count": null,
   "id": "81e4b5b5-c9c1-46cd-811b-c62d5da74a3a",
   "metadata": {
    "vscode": {
     "languageId": "r"
    }
   },
   "outputs": [],
   "source": [
    "# Implementation missing"
   ]
  }
 ],
 "metadata": {
  "kernelspec": {
   "display_name": "R [conda env:malbio_conda_env]",
   "language": "R",
   "name": "conda-env-malbio_conda_env-r"
  },
  "language_info": {
   "codemirror_mode": "r",
   "file_extension": ".r",
   "mimetype": "text/x-r-source",
   "name": "R",
   "pygments_lexer": "r",
   "version": "4.3.2"
  }
 },
 "nbformat": 4,
 "nbformat_minor": 5
}
