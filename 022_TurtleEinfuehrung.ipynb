{
 "cells": [
  {
   "cell_type": "markdown",
   "metadata": {
     "deletable": false
   },
   "source": [
    "# Turtle Einführung\n",
    "\n",
    "#### Marcel Lüthi, Andreas Morel-Forster<br/>Departement Mathematik und Informatik, Universität Basel"
   ]
  },
  {
   "cell_type": "markdown",
   "metadata": {
     "deletable": false
   },
   "source": [
    "Dieses Notebook ist eine Einführung in das Konzept von Turtlegrafik. Im Kurs hilft die grafische Ausgabe zu veranschaulichen, was in einem Programm passiert. Sie lernen:\n",
    "- wie man die Turtle im Notebook verfügbar macht.\n",
    "- die wichtigsten Anweisungen um die Turtle zu steuern.\n",
    "- einfachste Zeichnungen zu erstellen."
   ]
  },
  {
   "cell_type": "markdown",
   "metadata": {
     "deletable": false
   },
   "source": [
    "### Setup der Bibliotheken in Jupyter"
   ]
  },
  {
   "cell_type": "markdown",
   "metadata": {
     "deletable": false
   },
   "source": [
    "Turtle Grafik gehört nicht zum Standardumfang der Java Programmiersprache. Die Funktionalität die für die Turtlegrafik genutzt wird, ist in einer *Bibliothek* zur Verfügung gestellt. Im Moment können Sie sich eine Bibliothek als eine Sammlung von Programmbausteinen vorstellen.\n",
    "\n",
    "Damit wir die Anweisungen in dieser Bibliothek verwenden können, müssen wir Sie zuerst im Jupyter-Notebook zur Verfügung stellen. Dies geschieht mit den unten folgenden Anweisungen.\n",
    "\n",
    "*Hinweis - Diese folgenden zwei Zeilen sind Befehle, die so nur in Jupyter-Notebooks verwendet werden können und entsprechen nicht gültigem Java Code.*"
   ]
  },
  {
   "cell_type": "code",
   "execution_count": null,
   "metadata": {
     "deletable": false
   },
   "outputs": [],
   "source": [
    "%mavenRepo shapemodelling-repo https://shapemodelling.cs.unibas.ch/repo/\n",
    "%maven ch.unibas.informatik:jturtle:0.7"
   ]
  },
  {
   "cell_type": "markdown",
   "metadata": {
     "deletable": false
   },
   "source": [
    "Wenn Sie die obige Zelle ausführen, wird eine Datei, ein jar-File heruntergeladen.\n",
    "\n",
    "Die folgende Zelle macht dann ganz bestimmte Anweisungen dieser Bibliothek in diesem Jupyter Notebook verfügbar."
   ]
  },
  {
   "cell_type": "code",
   "execution_count": null,
   "metadata": {
     "deletable": false
   },
   "outputs": [],
   "source": [
    "import static ch.unibas.informatik.jturtle.TurtleCommands.*"
   ]
  },
  {
   "cell_type": "markdown",
   "metadata": {
     "deletable": false
   },
   "source": [
    "&#9888; Immer wenn Sie das Jupyter Notebook neu öffnen, müssen Sie diese zwei Zellen erneut ausführen, wenn Sie mit der Turtlegrafik arbeiten möchten."
   ]
  },
  {
   "cell_type": "markdown",
   "metadata": {
     "deletable": false
   },
   "source": [
    "### Turtel Grafik"
   ]
  },
  {
   "cell_type": "markdown",
   "metadata": {
     "deletable": false
   },
   "source": [
    "Das Prinzip hinter Turtle Grafik ist, eine Schildkröte, welche einen Stift mitführt. Die Schildkröte kann mit verschiedenen Anweisungen dazu gebracht werden sich zu bewegen. So können dann Zeichnungen erstellt werden."
   ]
  },
  {
   "cell_type": "markdown",
   "metadata": {
     "deletable": false
   },
   "source": [
    "Schauen wir uns dazu folgendes Programm einmal an:\n",
    "```java\n",
    "class MyDrawing {\n",
    "    public static void main(String[] args) {\n",
    "        home();\n",
    "        clear();\n",
    "        penDown();\n",
    "        forward(50);\n",
    "        display(drawing());\n",
    "    }\n",
    "}\n",
    "```"
   ]
  },
  {
   "cell_type": "markdown",
   "metadata": {
     "deletable": false
   },
   "source": [
    "Die verwendeten Anweisungen und ihre Auswirkungen sind:\n",
    "\n",
    "| Anweisung | Effekt |\n",
    "| --- | :-- |\n",
    "| ```clear()``` | löscht alles bisher gezeichnete |\n",
    "| ```home()``` | setzt die Turtle an die Startposition (Mitte des Zeichenbereichs) |\n",
    "| ```penDown()``` | die Schildkröte setzt den Stift auf das Papier |\n",
    "| ```forward(50)``` | die Schildkröte läuft 50 Schritte weit |\n",
    "| ```display(drawing())``` | die Zeichnung wird angezeigt |\n",
    "\n",
    "Wenn wir die nachfolgenden Zellen des Jupyter-Notebooks ausführen, können wir uns die entstandene Zeichnung anschauen. "
   ]
  },
  {
   "cell_type": "code",
   "execution_count": null,
   "metadata": {
     "deletable": false
   },
   "outputs": [],
   "source": [
    "class MyDrawing {\n",
    "    public static void main(String[] args) {\n",
    "        clear();\n",
    "        home();\n",
    "        \n",
    "        penDown();\n",
    "        forward(50);\n",
    "        \n",
    "        display(drawing());\n",
    "    }\n",
    "}"
   ]
  },
  {
   "cell_type": "code",
   "execution_count": null,
   "metadata": {
     "deletable": false
   },
   "outputs": [],
   "source": [
    "MyDrawing.main(new String[0]);"
   ]
  },
  {
   "cell_type": "markdown",
   "metadata": {
     "deletable": false
   },
   "source": [
    "#### Miniübung\n",
    "- Kopieren Sie das obige Beispiel und Entfernen Sie die Anweisung `home();`. Führen Sie dann die Zelle mehrmals aus. Was passiert jetzt? Weshalb?\n",
    "- Die Anweisung `turnRight(90);` können Sie verwenden um die Laufrichtung der Schildkröte zu ändern. Zeichnen Sie damit ein `L`.\n",
    "- Fügen Sie die Anwendung `drawTurtle();` an verschiedenen Stellen im Programm ein, dies Zeichnet die Turtle an der aktuellen Position in der aktuellen Laufrichtung. So können Sie besser sehen, was passiert."
   ]
  },
  {
   "cell_type": "code",
   "execution_count": null,
   "metadata": {
     "deletable": false
   },
   "outputs": [],
   "source": [
    "class MyDrawing2 {\n",
    "    public static void main(String[] args) {\n",
    "        // Ihr Code für die Zeichnung\n",
    "    }\n",
    "}"
   ]
  },
  {
   "cell_type": "code",
   "execution_count": null,
   "metadata": {
     "deletable": false
   },
   "outputs": [],
   "source": [
    "MyDrawing2.main(new String[0]);"
   ]
  },
  {
   "cell_type": "markdown",
   "metadata": {
     "deletable": false
   },
   "source": [
    "### Take-Home"
   ]
  },
  {
   "cell_type": "markdown",
   "metadata": {
     "deletable": false
   },
   "source": [
    "- Die Turtlegrafik ist eine zusätzliche Bibliothek und nicht in Java oder Jupyter-Notebooks enthalten.\n",
    "- Es müssen immer zuerst spezielle Befehle ausgeführt werden, und erst dann kann die Turtlegrafik in Jupyter-Notebooks genutzt werden.\n",
    "- Die wichtigsten Befehle bisher waren: `home()`,  `clear()`, `penDown()`, `forward()`, `turnRight(90)`,  `drawTurtle()`, `display(drawing())`"
   ]
  }
 ],
 "metadata": {
  "kernelspec": {
   "display_name": "Java",
   "language": "java",
   "name": "java"
  },
  "language_info": {
   "codemirror_mode": "java",
   "file_extension": ".jshell",
   "mimetype": "text/x-java-source",
   "name": "Java",
   "pygments_lexer": "java",
   "version": "11.0.10+9-LTS"
  },
  "toc": {
   "base_numbering": 1,
   "nav_menu": {},
   "number_sections": false,
   "sideBar": false,
   "skip_h1_title": false,
   "title_cell": "Table of Contents",
   "title_sidebar": "Contents",
   "toc_cell": false,
   "toc_position": {},
   "toc_section_display": false,
   "toc_window_display": false
  }
 },
 "nbformat": 4,
 "nbformat_minor": 2
}
