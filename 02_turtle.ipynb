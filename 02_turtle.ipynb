{
 "cells": [
  {
   "cell_type": "markdown",
   "metadata": {
    "deletable": false
   },
   "source": [
    "# Turtle Referenz\n",
    "\n",
    "#### Marcel Lüthi, Patrick Schnider<br/>Departement Mathematik und Informatik, Universität Basel"
   ]
  },
  {
   "cell_type": "markdown",
   "metadata": {
    "deletable": false
   },
   "source": [
    "Dieses Notebook bietet eine Übersicht über Turtlegrafik. Sie lernen:\n",
    "- wie man die Turtle im Notebook verfügbar macht.\n",
    "- die wichtigsten Anweisungen um die Turtle zu steuern.\n",
    "- eigenheiten der Turtlegrafik zu verstehen.\n",
    "- einfachste Zeichnungen zu erstellen."
   ]
  },
  {
   "cell_type": "markdown",
   "metadata": {
    "deletable": false
   },
   "source": [
    "### Setup der Turtle-Grafik in Jupyter"
   ]
  },
  {
   "cell_type": "markdown",
   "metadata": {
    "deletable": false
   },
   "source": [
    "Turtle-Grafik gehört nicht zum Standardumfang von Java. Die Funktionalität die für die Turtlegrafik genutzt wird, ist in einer *Bibliothek* zur Verfügung gestellt. Im Moment können Sie sich eine Bibliothek als eine Sammlung von Programmbausteinen vorstellen.\n",
    "\n",
    "Damit wir die Anweisungen in dieser Bibliothek verwenden können, müssen wir Sie zuerst im Jupyter-Notebook zur Verfügung stellen. Dies geschieht mit den unten folgenden Anweisungen.\n",
    "\n",
    "*Hinweis - Diese folgenden zwei Zeilen sind Befehle, die so nur in Jupyter-Notebooks verwendet werden können und entsprechen nicht gültigem Java Code.*"
   ]
  },
  {
   "cell_type": "code",
   "execution_count": null,
   "metadata": {
    "deletable": false
   },
   "outputs": [],
   "source": [
    "%mavenRepo shapemodelling-repo https://shapemodelling.cs.unibas.ch/repo/\n",
    "%maven ch.unibas.informatik:jturtle:0.7"
   ]
  },
  {
   "cell_type": "code",
   "execution_count": null,
   "metadata": {
    "deletable": false
   },
   "outputs": [],
   "source": [
    "import static ch.unibas.informatik.jturtle.TurtleCommands.*"
   ]
  },
  {
   "cell_type": "markdown",
   "metadata": {},
   "source": [
    "&#9888; Immer wenn Sie das Jupyter Notebook neu öffnen, müssen Sie diese zwei Zellen erneut ausführen, wenn Sie mit der Turtlegrafik arbeiten möchten."
   ]
  },
  {
   "cell_type": "markdown",
   "metadata": {},
   "source": [
    "### Turtle-Grafik"
   ]
  },
  {
   "cell_type": "markdown",
   "metadata": {},
   "source": [
    "Das Prinzip hinter Turtle-Grafik ist eine Schildkröte (Turtle), welche einen Stift mitführt. Die Turtle kann mit verschiedenen Anweisungen dazu gebracht werden sich zu bewegen. So können dann Zeichnungen erstellt werden.\n",
    "\n",
    "Zu Beginn steht die Turtle immer in der Mitte der Zeichenfläche und schaut nach oben. Auf diese Ausgangsposition kommt man immer wieder durch den Aufruf des Befehls ```home()``` zurück. Die Zeichenfläche hat die Grösse 200 $\\times$ 200. Von der Ausgangsposition kann man also 100 Einheiten laufen bevor die Turtle ausserhalb des sichtbaren Bereichs ist.\n",
    "\n",
    "Folgender Code veranschaulicht das Koordinatensystem."
   ]
  },
  {
   "cell_type": "code",
   "execution_count": null,
   "metadata": {
    "deletable": false
   },
   "outputs": [],
   "source": [
    "class MyCoordinateSystem {\n",
    "    public static void main(String[] args) {\n",
    "        clear();\n",
    "        home();\n",
    "        drawTurtle();\n",
    "        forward(100);\n",
    "        turnRight(180);\n",
    "        penDown();\n",
    "        forward(200);\n",
    "        penUp();\n",
    "        home();\n",
    "        turnRight(90);\n",
    "        forward(100);\n",
    "        turnRight(180);\n",
    "        penDown();\n",
    "        forward(200);\n",
    "        display(drawing());\n",
    "    }\n",
    "}"
   ]
  },
  {
   "cell_type": "code",
   "execution_count": null,
   "metadata": {
    "deletable": false
   },
   "outputs": [],
   "source": [
    "MyCoordinateSystem.main(new String[0]);"
   ]
  },
  {
   "cell_type": "markdown",
   "metadata": {
    "deletable": false
   },
   "source": [
    "#### Miniübungen\n",
    "\n",
    "- Können Sie den Code durch einfügen von Leerzeilen oder Kommentaren leserlicher machen?\n",
    "- Wo steht die Turtle am Ende?\n",
    "- Wie wird das Koordinatensystem gezeichnet?\n",
    "- Können Sie die Turtle am Ende der Koordinatenachsen zeichnen, wie Sie es mit Pfeilspitzen aus der Mathematik kennen?\n",
    "- Überlegen Sie sich einen anderen Vorgehensweise das Koordinatensystem zu zeichnen."
   ]
  },
  {
   "cell_type": "markdown",
   "metadata": {
    "deletable": false
   },
   "source": [
    "\n",
    "### Einfache Zeichenbefehle"
   ]
  },
  {
   "cell_type": "markdown",
   "metadata": {
    "deletable": false
   },
   "source": [
    "Im folgenden sind einige Befehle um Zeichnungen zu erstellen zusammengefasst:\n",
    "\n",
    "| Anweisung | Effekt |\n",
    "| --- | :-- |\n",
    "| `clear()` | leert die Zeichenfläche |\n",
    "| `home()` | setzt die Turtle an die Startposition (Mitte des Zeichenbereichs) |\n",
    "| `display(drawing())` | die Zeichnung wird angezeigt |\n",
    "| `penDown()` | die Schildkröte setzt den Stift auf das Papier |\n",
    "| `penUp()` | die Schildkröte hebt den Stift ab dem Papier |\n",
    "| `forward(X)` | die Schildkröte läuft `X` Schritte weit |\n",
    "| `backward(X)` | die Schildkröte läuft `X` Schritte rückwärts |\n",
    "| `turnRight(X)` | die Schildkröte dreht um `X` Grad nach rechts |\n",
    "| `turnLeft(X)` | die Schildkröte dreht um `X` Grad nach links |\n",
    "| `reset()` | setzt alle Eigenschaften des Stifts auf die Startwerte |\n",
    "| `penSize(X)` | der Stift zeichnet die neuen Linien mit Dicke `X` |\n",
    "| `penColor(C)` | der Stift zeichnet die nächsten Linien mit der Farbe `C`<br/>Gültige Farben sind: `BLACK`, `BLUE`, `GREEN`, `RED`, `ORANGE`, `YELLOW`, `WHITE`, `GREY`<br/>oder: `color(R,G,B)` mit `R`, `G`, `B` zwischen 0 und 255 für rot, grün und blau|\n",
    "| `write(\"text\", X)` | schreibt den Text mit Schriftgrösse `X` an die Stelle der Turtle |\n",
    "| `fill()` | füllt die geschlossene Fläche um die Turtle mit der aktuellen Farbe |\n",
    "| `drawTurtle()` | zeichnet die Turtle and der aktuellen Position |\n",
    "\n"
   ]
  },
  {
   "cell_type": "markdown",
   "metadata": {
    "deletable": false
   },
   "source": [
    "Nachfolgend ein Beispielprogramm welche die Befehle nutzt."
   ]
  },
  {
   "cell_type": "code",
   "execution_count": null,
   "metadata": {
    "deletable": false
   },
   "outputs": [],
   "source": [
    "class MyCoordinateSystem {\n",
    "    public static void main(String[] args) {\n",
    "        clear();\n",
    "        reset();\n",
    "        home();\n",
    "        penSize(1);\n",
    "        penColor(GREEN);\n",
    "        forward(100);\n",
    "        turnRight(90);\n",
    "        penColor(color(255, 96, 0));\n",
    "        forward(100);\n",
    "        turnRight(90);\n",
    "        penSize(10);\n",
    "        forward(100);\n",
    "        penUp();\n",
    "        turnRight(70);\n",
    "        forward(100);\n",
    "        penDown();\n",
    "        forward(100);\n",
    "        turnRight(120);\n",
    "        forward(100);\n",
    "        turnRight(120);\n",
    "        forward(100);\n",
    "        penUp();\n",
    "        turnRight(150);\n",
    "        forward(50);\n",
    "        penColor(BLUE);\n",
    "        fill();\n",
    "        drawTurtle();\n",
    "        turnRight(20);\n",
    "        forward(10);\n",
    "        penColor(WHITE);\n",
    "        write(\"Hier stehe ich\", 22);\n",
    "        display(drawing());\n",
    "    }\n",
    "}\n",
    "\n",
    "MyCoordinateSystem.main(new String[0]);"
   ]
  },
  {
   "cell_type": "markdown",
   "metadata": {
    "deletable": false
   },
   "source": [
    "#### Miniübungen\n",
    "- Kopieren Sie den Code von oben in eine neue Zelle. Können Sie den Code durch einfügen von Leerzeichen und Kommentaren besser lesbar machen? Wenn nötig kommentieren Sie Teile des Codes aus, so dass Sie herausfinden was wo gezeichnet wird.\n",
    "- Zeichnen Sie ein 5-eck.\n",
    "- Zeichnen Sie ein einfaches Haus.\n",
    "    - Zeichnen Sie Türen, Fenster oder einen Kamin.\n",
    "    - Machen Sie Ihr Haus farbig.\n",
    "    - Sie dürfen gerne ein Bild Ihres gezeichneten Hauses im Forum auf Adam posten."
   ]
  },
  {
   "cell_type": "code",
   "execution_count": null,
   "metadata": {
    "deletable": false
   },
   "outputs": [],
   "source": [
    "class MyPentagon {\n",
    "    public static void main(String[] args) {\n",
    "       // Ihr Code für die Zeichnung\n",
    "    }\n",
    "}"
   ]
  },
  {
   "cell_type": "code",
   "execution_count": null,
   "metadata": {
    "deletable": false
   },
   "outputs": [],
   "source": [
    "MyPentagon.main(new String[0]);"
   ]
  },
  {
   "cell_type": "code",
   "execution_count": null,
   "metadata": {
    "deletable": false
   },
   "outputs": [],
   "source": [
    "class MyHouse {\n",
    "    public static void main(String[] args) {\n",
    "        // Ihr Code für die Zeichnung\n",
    "    }\n",
    "}"
   ]
  },
  {
   "cell_type": "code",
   "execution_count": null,
   "metadata": {
    "deletable": false
   },
   "outputs": [],
   "source": [
    "MyHouse.main(new String[0]);"
   ]
  },
  {
   "cell_type": "markdown",
   "metadata": {
    "deletable": false
   },
   "source": [
    "### Zeit zum spielen &#128513;"
   ]
  },
  {
   "cell_type": "markdown",
   "metadata": {
    "deletable": false
   },
   "source": [
    "Die Prinzipien von Turtlegrafik sind sehr einfach zu verstehen. Turtle wurde ursprünglich auch dazu entwickelt, Kindern das Programmieren beizubringen. Mithilfe von Turtlegrafik können jedoch auch sehr komplexe und abstrakte Konzepte graphisch illustriert werden. Das folgende Programm ist ein Beispiel für ein komplexes Programm. Es illustriert auch eine wichtige Eigenschaft des Programmierens: Wir können durch zusammensetzen von einfachen Befehlen sehr komplexe Verhaltensweisen erreichen. \n",
    "\n",
    "*Zu diesem Zeitpunkt können und müssen Sie das Programm noch nicht verstehen. Bis wir alle Konzepte eingeführt haben, die in diesem Programm vorkommen, dauert es ungefähr 6 Wochen.*"
   ]
  },
  {
   "cell_type": "markdown",
   "metadata": {
    "deletable": false
   },
   "source": [
    "#### Miniübungen\n",
    "- Führen Sie die aufrufende Zelle mehrmals aus. Bleibt das Bild immer gleich?\n",
    "- Spielen Sie doch etwas mit den Zahlen in Zeile 41. Sie müssen dann beide Zellen ausführen um das Ergebnis zu sehen.<br/>Sollte etwas schief gehen, die originale Zeile 41 ist oder war:<br/>`RandomTree.drawTree(20, 2, 12, 1, 10, 30, 0.75, 1.0);`.\n",
    "- Die Zeilennummern können Sie einblenden, wenn Sie im Kommando-Modus die Taste `L` drücken.\n",
    "- Wenn das Notebook nichts mehr reagiert oder nichts mehr anzeigt, klicken Sie auf das &#9632; Stop oder das &#8635; Restart Symbol oder wählen Sie im Menu `Kernel` / `Shutdown` und dann `Kernel` / `Restart`."
   ]
  },
  {
   "cell_type": "code",
   "execution_count": null,
   "metadata": {
    "deletable": false
   },
   "outputs": [],
   "source": [
    "import java.util.Random;\n",
    "\n",
    "class RandomTree {\n",
    "    \n",
    "    static Random random = new Random();\n",
    "    \n",
    "    static int level = 0;\n",
    "    \n",
    "    static void randomTree(double length, double minLength, int thickness, int minThickness, double minAngle, double maxAngle, double minShrink, double maxShrink) {\n",
    "        if (length < minLength || thickness < minThickness || level > 20) {\n",
    "            return;\n",
    "        } else {\n",
    "            level += 1;\n",
    "            double angle1 = minAngle + random.nextDouble() * (maxAngle - minAngle);\n",
    "             double angle2 = minAngle + random.nextDouble() * (maxAngle - minAngle);\n",
    "             double shrink1 = minShrink + random.nextDouble() * (maxShrink - minShrink);\n",
    "             double shrink2 = minShrink + random.nextDouble() * (maxShrink - minShrink);\n",
    "             penSize(thickness);\n",
    "             forward(length);\n",
    "             turnRight(angle1);\n",
    "             randomTree(length*shrink1, minLength, (int) (thickness * shrink1),  minThickness, minAngle, maxAngle, minShrink, maxShrink);\n",
    "             turnLeft(angle1 + angle2);         \n",
    "             randomTree(length*shrink2, minLength, (int) (thickness * shrink2), minThickness, minAngle, maxAngle, minShrink, maxShrink);\n",
    "             turnRight(angle2);\n",
    "             penSize(thickness);\n",
    "             backward(length);\n",
    "            level -= 1;\n",
    "        }\n",
    "    }\n",
    "    \n",
    "    static void drawTree(double length, double minLength, int thickness, int minThickness, double minAngle, double maxAngle, double minShrink, double maxShrink) {\n",
    "        clear();\n",
    "        reset();\n",
    "        home();\n",
    "        penUp();\n",
    "        turnRight(180);\n",
    "        forward(100);\n",
    "        turnRight(180);\n",
    "        penColor(java.awt.Color.BLACK);\n",
    "        penDown();\n",
    "        RandomTree.randomTree(length, minLength, thickness, minThickness, minAngle, maxAngle, minShrink, maxShrink);\n",
    "        display(drawing());\n",
    "    }\n",
    "    \n",
    "    public static void main(String[] args) {\n",
    "        RandomTree.drawTree(20, 2, 12, 1, 10, 30, 0.75, 1.0);\n",
    "    }\n",
    "}"
   ]
  },
  {
   "cell_type": "code",
   "execution_count": null,
   "metadata": {
    "deletable": false
   },
   "outputs": [],
   "source": [
    "RandomTree.main(new String[0]);"
   ]
  },
  {
   "cell_type": "code",
   "execution_count": null,
   "metadata": {},
   "outputs": [],
   "source": []
  }
 ],
 "metadata": {
  "kernelspec": {
   "display_name": "Java [conda env:ijava]",
   "language": "java",
   "name": "conda-env-ijava-java"
  },
  "language_info": {
   "codemirror_mode": "java",
   "file_extension": ".jshell",
   "mimetype": "text/x-java-source",
   "name": "Java",
   "pygments_lexer": "java",
   "version": "17.0.3-internal+0-adhoc..src"
  },
  "toc": {
   "base_numbering": 1,
   "nav_menu": {},
   "number_sections": false,
   "sideBar": false,
   "skip_h1_title": false,
   "title_cell": "Table of Contents",
   "title_sidebar": "Contents",
   "toc_cell": false,
   "toc_position": {},
   "toc_section_display": false,
   "toc_window_display": false
  }
 },
 "nbformat": 4,
 "nbformat_minor": 4
}
