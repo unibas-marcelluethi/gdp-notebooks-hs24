{
 "cells": [
  {
   "cell_type": "markdown",
   "id": "02395950",
   "metadata": {},
   "source": [
    "# Generische Datentypen\n",
    "\n",
    "#### Patrick Schnider, Marcel Lüthi</br>Departement Mathematik und Informatik, Universität Basel"
   ]
  },
  {
   "cell_type": "markdown",
   "id": "e814204c",
   "metadata": {},
   "source": [
    "In der Programmierung möchte man oft Methoden so schreiben, dass sie für so viele Datentypen wie möglich funktionieren, und nur die wirklich nötige Struktur der Typen verwenden. Ein typisches Beispiel hierfür sind Sortieralgorithmen: solange wir beliebige zwei Elemente vergleichen können und so etwas wie \"grösser\" und \"kleiner\" haben, können wir sortieren. In Java ist diese Eigenschaft mit dem Interface ```Comparable<T>``` umgesetzt. Sie können sich das in der [API Dokumentation](https://docs.oracle.com/en/java/javase/17/docs/api/java.base/java/lang/Comparable.html) ansehen.\n",
    "\n",
    "In diesen Notebook wollen wir etwas ähnliches machen. Wir wollen mit Daten arbeiten, die einen Begriff von \"ähnlich\" haben."
   ]
  },
  {
   "cell_type": "markdown",
   "id": "403cdee8-6af8-479c-8a80-ef14a7bbce10",
   "metadata": {},
   "source": [
    "### Das Interface\n",
    "\n",
    "Wir definieren als erstes das relevante Interface."
   ]
  },
  {
   "cell_type": "code",
   "execution_count": null,
   "id": "d7f364dc",
   "metadata": {
    "vscode": {
     "languageId": "java"
    }
   },
   "outputs": [],
   "source": [
    "// Implementation Missing"
   ]
  },
  {
   "cell_type": "markdown",
   "id": "90d78ace-acbc-4764-acce-ff1b8d5ace6a",
   "metadata": {},
   "source": [
    "##### Fragen\n",
    "\n",
    "* Welche Methoden würden Sie deklarieren?\n",
    "* Wieso brauchen wir hier generische Datentypen?"
   ]
  },
  {
   "cell_type": "markdown",
   "id": "1ad281e8-af4a-47bb-a409-64dc45a7f578",
   "metadata": {},
   "source": [
    "### Eine erste Implementierung: Zahlen mit Fehlerbereich\n",
    "\n",
    "Bei Messungen kriegt man oft nicht eindeutige Zahlen, sondern hat einen Fehlerbereich, zum Beispiel $73.2 +/- 0.8$. Wir können nun sagen, dass zwei Zahlen mit Fehlerbereich ähnlich sind, wenn sich die Fehlerbereiche überschneiden. In Java können wir das mit einer Klasse umsetzen, die unser Interface ```Similar<T>``` implementiert.\n",
    "\n",
    "##### Übung\n",
    "\n",
    "* Schreiben Sie die Klasse\n",
    "* Wie müssen Sie die Klassensignatur schreiben?\n",
    "* Wie testen Sie, ob sich zwei Fehlerbereiche überschneiden?"
   ]
  },
  {
   "cell_type": "code",
   "execution_count": null,
   "id": "84d09f65-ede3-4dde-8a35-07a5b63c0e6c",
   "metadata": {
    "vscode": {
     "languageId": "java"
    }
   },
   "outputs": [],
   "source": [
    "class ApproxDouble{\n",
    "    double value;\n",
    "    double error;\n",
    "    \n",
    "    // Schreiben Sie den Konstruktor\n",
    "    \n",
    "    public String toString(){\n",
    "        return \"\" + value + \" +/- \" + error;\n",
    "    }\n",
    "    \n",
    "    public boolean isSimilar(ApproxDouble other){\n",
    "        // Implementation missing\n",
    "    }\n",
    "\n",
    "}"
   ]
  },
  {
   "cell_type": "markdown",
   "id": "ec811885-fb66-4577-b9e4-5a9ca9edda0c",
   "metadata": {},
   "source": [
    "Wir testen diese Klasse:"
   ]
  },
  {
   "cell_type": "code",
   "execution_count": null,
   "id": "939853c6-4d91-40bf-a789-aa7eb4182601",
   "metadata": {
    "vscode": {
     "languageId": "java"
    }
   },
   "outputs": [],
   "source": [
    "class ApproxDoubleTest{\n",
    "\n",
    "    public static void main(String[] args){\n",
    "        ApproxDouble a = new ApproxDouble(0.0, 0.5);\n",
    "        ApproxDouble b = new ApproxDouble(1.0, 0.6);\n",
    "        ApproxDouble c = new ApproxDouble(1.0, 0.4);\n",
    "        \n",
    "        \n",
    "        System.out.println(a.isSimilar(b)); // true\n",
    "        System.out.println(a.isSimilar(c)); // false\n",
    "        System.out.println(b.isSimilar(c)); // true\n",
    "    }\n",
    "    \n",
    "}\n",
    "\n",
    "ApproxDoubleTest.main(new String[0]);"
   ]
  },
  {
   "cell_type": "markdown",
   "id": "c810dc67-dd56-4feb-a172-8423ad90937b",
   "metadata": {},
   "source": [
    "### Ähnliche Paare ausgeben\n",
    "\n",
    "Wir wollen nun eine Klasse schreiben, mit der wir ein Array von Objekten eines Datentyps, der ```Similar``` implementiert, speichern. Die Klasse soll eine Methode haben, die alle Paare von Objekten im Array ausgibt, die ähnlich sind.\n",
    "\n",
    "##### Übung\n",
    "* Schreiben Sie die Klasse\n",
    "* Wie müssen Sie die Klassensignatur schreiben?"
   ]
  },
  {
   "cell_type": "code",
   "execution_count": null,
   "id": "a9b21f7d-cb2e-42f3-b83a-90ad334384df",
   "metadata": {
    "vscode": {
     "languageId": "java"
    }
   },
   "outputs": [],
   "source": [
    "class SimilarPairs{\n",
    "    // Felder für Daten\n",
    "    \n",
    "    // Konstruktor\n",
    "    \n",
    "    public void printPairs(){\n",
    "        // Implementation missing\n",
    "    }\n",
    "}"
   ]
  },
  {
   "cell_type": "markdown",
   "id": "12db897a-1811-492b-a753-31e7ccefe5d8",
   "metadata": {},
   "source": [
    "Dank unserer Implementierung ```ApproxDouble``` können wir diese Klasse an einem konkreten Beispiel testen."
   ]
  },
  {
   "cell_type": "code",
   "execution_count": null,
   "id": "8ace9bd7-376b-4822-9055-24ed7ac55d14",
   "metadata": {
    "vscode": {
     "languageId": "java"
    }
   },
   "outputs": [],
   "source": [
    "class SimilarPairsTest {\n",
    "\n",
    "    public static void main(String[] args){\n",
    "        ApproxDouble a = new ApproxDouble(0.0, 0.5);\n",
    "        ApproxDouble b = new ApproxDouble(1.0, 0.6);\n",
    "        ApproxDouble c = new ApproxDouble(1.0, 0.4);\n",
    "        \n",
    "        ApproxDouble[] doubleData = new ApproxDouble[]{a, b, c};\n",
    "        SimilarPairs doubleTest = new SimilarPairs(doubleData);\n",
    "        \n",
    "        doubleTest.printPairs();\n",
    "    }\n",
    "    \n",
    "}\n",
    "\n",
    "SimilarPairsTest.main(new String[0]);"
   ]
  },
  {
   "cell_type": "markdown",
   "id": "81332db3-56f4-4072-9b75-a63efc9ad6ee",
   "metadata": {},
   "source": [
    "### Eine zweite Implementierung: Namen\n",
    "\n",
    "Wir können Namen (oder allgemein Strings) vergleichen, indem wir zählen, wieviele gemeinsame Buchstaben sie haben. Zum Beispiel haben \"Peter\" und \"Erich\" 3 gemeinsame Buchstaben: 2 mal ein \"e\" und 1 mal ein \"r\". (Wir zählen das \"e\" doppelt, das könnte man natürlich auch anders machen. Mit unserer Definition haben \"Peter\" und \"Esther\" 4 gemeinsame \"e\".) Wir sagen nun, dass zwei Namen ähnlich sind, wenn sie mindestens 3 gemeinsame Buchtaben haben.\n",
    "\n",
    "Auch hier können eine Klasse schreiben, die ```Similar<T>``` implementiert.\n",
    "\n",
    "##### Übung\n",
    "* Schreiben Sie die Klasse"
   ]
  },
  {
   "cell_type": "code",
   "execution_count": null,
   "id": "67c91524-0d7f-495a-8d1b-1a71378c71d6",
   "metadata": {
    "vscode": {
     "languageId": "java"
    }
   },
   "outputs": [],
   "source": [
    "class Name implements Similar<Name> {\n",
    "    // Daten\n",
    "    \n",
    "   // Konstruktor\n",
    "    \n",
    "    public String toString(){\n",
    "        // Implementation missing\n",
    "    }\n",
    "    \n",
    "    public boolean isSimilar(Name other){\n",
    "        // Implementation missing\n",
    "    }\n",
    "}"
   ]
  },
  {
   "cell_type": "markdown",
   "id": "9e09af37-3351-4808-9327-736e67323c54",
   "metadata": {},
   "source": [
    "Auch diese Klasse testen wir."
   ]
  },
  {
   "cell_type": "code",
   "execution_count": null,
   "id": "4df2fc3a-9f51-4e57-8298-b3be329b46f4",
   "metadata": {
    "vscode": {
     "languageId": "java"
    }
   },
   "outputs": [],
   "source": [
    "class NameTest{\n",
    "\n",
    "    public static void main(String[] args){\n",
    "        Name patrick = new Name(\"patrick\");\n",
    "        Name peter = new Name(\"peter\");\n",
    "        Name erin = new Name(\"erin\");\n",
    "        \n",
    "        System.out.println(patrick.isSimilar(peter)); // true\n",
    "        System.out.println(patrick.isSimilar(erin)); // false\n",
    "        System.out.println(peter.isSimilar(erin)); // true\n",
    "    }\n",
    "    \n",
    "}\n",
    "\n",
    "ApproxDoubleTest.main(new String[0]);"
   ]
  },
  {
   "cell_type": "markdown",
   "id": "73fba961-27c5-4178-a9b3-8f33bec4b49e",
   "metadata": {},
   "source": [
    "Wir können nun ```SimilarPairs``` auch mit ```Name``` anwenden."
   ]
  },
  {
   "cell_type": "code",
   "execution_count": null,
   "id": "8b305af4-dcc1-470d-96f1-901bfe04a2f6",
   "metadata": {
    "vscode": {
     "languageId": "java"
    }
   },
   "outputs": [],
   "source": [
    "class SimilarPairsTest {\n",
    "\n",
    "    public static void main(String[] args){\n",
    "        // für ApproxDouble\n",
    "        System.out.println(\"Paare mit ApproxDouble\");\n",
    "        \n",
    "        ApproxDouble a = new ApproxDouble(0.0, 0.5);\n",
    "        ApproxDouble b = new ApproxDouble(1.0, 0.6);\n",
    "        ApproxDouble c = new ApproxDouble(1.0, 0.4);\n",
    "        \n",
    "        ApproxDouble[] doubleData = new ApproxDouble[]{a, b, c};\n",
    "        SimilarPairs doubleTest = new SimilarPairs(doubleData);\n",
    "        \n",
    "        doubleTest.printPairs();\n",
    "        \n",
    "        // für Name\n",
    "        System.out.println(\"Paare mit Name\");\n",
    "        \n",
    "        Name patrick = new Name(\"patrick\");\n",
    "        Name peter = new Name(\"peter\");\n",
    "        Name erin = new Name(\"erin\");\n",
    "        \n",
    "        Name[] nameData = new Name[]{patrick, peter, erin};\n",
    "        SimilarPairs nameTest = new SimilarPairs(nameData);\n",
    "        \n",
    "        nameTest.printPairs();\n",
    "    }\n",
    "    \n",
    "}\n",
    "\n",
    "SimilarPairsTest.main(new String[0]);"
   ]
  }
 ],
 "metadata": {
  "kernelspec": {
   "display_name": "Java",
   "language": "java",
   "name": "java"
  },
  "language_info": {
   "codemirror_mode": "java",
   "file_extension": ".jshell",
   "mimetype": "text/x-java-source",
   "name": "Java",
   "pygments_lexer": "java",
   "version": "17.0.11+7-LTS-jvmci-23.0-b34"
  }
 },
 "nbformat": 4,
 "nbformat_minor": 5
}
