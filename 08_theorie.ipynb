{
 "cells": [
  {
   "cell_type": "markdown",
   "id": "dd6e07d1",
   "metadata": {},
   "source": [
    "# Üben auf die Zwischenprüfung\n",
    "\n",
    "#### Patrick Schnider, Marcel Lüthi</br>Departement Mathematik und Informatik, Universität Basel"
   ]
  },
  {
   "cell_type": "markdown",
   "id": "42f08f48",
   "metadata": {},
   "source": [
    "In diesem Notebook behandeln wir keine neuen Konzepte, sondern üben nochmals für die Zwischenprüfung. Dazu schauen wir uns ein paar Aufgaben an, wie sie in der Prüfung kommen könnten."
   ]
  },
  {
   "cell_type": "markdown",
   "id": "205df756-e0a4-4fc3-b904-51924e71169c",
   "metadata": {
    "tags": []
   },
   "source": [
    "### Aufgabe 1:\n",
    "\n",
    "Das nachfolgende Programm kompiliert nicht. Verbessern Sie es und fügen Sie an der jeweiligen Stelle im Programm einen gültigen Java Kommentar hinzu, der erklärt was das Problem war:\n",
    "\n",
    "```java\n",
    "class CompilationWoes {\n",
    "    public static void main(String[] args) {\n",
    "        int i = 1023l;\n",
    "        \n",
    "        System.out.println(\"Der Wert der Zahl i ist \", i);\n",
    "    }\n",
    "}\n",
    "```"
   ]
  },
  {
   "cell_type": "code",
   "execution_count": null,
   "id": "1ae535bb-da74-43c1-9c89-90117a5564d7",
   "metadata": {
    "vscode": {
     "languageId": "java"
    }
   },
   "outputs": [],
   "source": [
    "class CompilationWoes {\n",
    "    public static void main(String[] args) {\n",
    "        int i = 1023l;\n",
    "        \n",
    "        System.out.println(\"Der Wert der Zahl i ist \", i);\n",
    "    }\n",
    "}"
   ]
  },
  {
   "cell_type": "code",
   "execution_count": null,
   "id": "84a84103-3df6-47dc-a977-d0326d4d7532",
   "metadata": {
    "vscode": {
     "languageId": "java"
    }
   },
   "outputs": [],
   "source": [
    "CompilationWoes.main(new String[0]);"
   ]
  },
  {
   "cell_type": "markdown",
   "id": "4c68d84a-04c3-4038-980e-df049124348d",
   "metadata": {},
   "source": [
    "### Aufgabe 2:\n",
    "\n",
    "Schreiben Sie eine Methode `max` welche das Maximum von zwei Zahlen, welche als Parameter übergeben werden, zurück gibt. Diese Methode soll für Gleitkommazahlen funktionieren."
   ]
  },
  {
   "cell_type": "code",
   "execution_count": null,
   "id": "68795fc4-241a-4013-84a1-ae589bff4f75",
   "metadata": {
    "vscode": {
     "languageId": "java"
    }
   },
   "outputs": [],
   "source": [
    "class MaximumNumber {\n",
    "    \n",
    "    // Hier kommt Ihre Lösung hin\n",
    "\n",
    "\n",
    "    public static void main(String[] args) {\n",
    "        System.out.println(\"Das maximum ist: \" +max(1.0, 2.0));\n",
    "    }\n",
    "}"
   ]
  },
  {
   "cell_type": "code",
   "execution_count": null,
   "id": "41b55bc8-6acd-4237-a1b8-c004d8da8f96",
   "metadata": {
    "vscode": {
     "languageId": "java"
    }
   },
   "outputs": [],
   "source": [
    "MaximumNumber.main(new String[0]);"
   ]
  },
  {
   "cell_type": "markdown",
   "id": "6474beac-92d4-4645-862e-d4114f50b36f",
   "metadata": {},
   "source": [
    "### Aufgabe 3:\n",
    "\n",
    "Schreiben Sie eine Methode `drawTriangle`, welches eine Zahl `n` entgegennimmt und \n",
    "ein Dreieck mit Sternchen ausgibt. Für `n=4` soll folgendes Muster entstehen:\n",
    "\n",
    "```\n",
    "*\n",
    "**\n",
    "***\n",
    "****\n",
    "```\n"
   ]
  },
  {
   "cell_type": "code",
   "execution_count": null,
   "id": "bcb017fd-72b9-4288-a3b3-ba5957f1f28b",
   "metadata": {
    "vscode": {
     "languageId": "java"
    }
   },
   "outputs": [],
   "source": [
    "class Triangle {\n",
    "    \n",
    "    // Ihre Lösung\n",
    "    \n",
    "    public static void main(String[] args) {\n",
    "        drawTriangle(4);\n",
    "    }\n",
    "} "
   ]
  },
  {
   "cell_type": "code",
   "execution_count": null,
   "id": "4cf6a77b-f5be-44f8-88c0-4f35ba0cca03",
   "metadata": {
    "vscode": {
     "languageId": "java"
    }
   },
   "outputs": [],
   "source": [
    "Triangle.main(new String[0]);"
   ]
  },
  {
   "cell_type": "markdown",
   "id": "b2cbdb64-4e77-4174-bd6e-1f2273995e00",
   "metadata": {},
   "source": [
    "### Aufgabe 4:\n",
    "\n",
    "Schreiben Sie eine rekursive Funktion `power`, welches zwei Zahlen `x` und `n` entgegennimmt, und mittels Rekursion die n-te Potenz von $x$ (also $x^n$) berechnet und zurückgibt."
   ]
  },
  {
   "cell_type": "code",
   "execution_count": null,
   "id": "b4c083c6-d000-426f-995b-5f610056c864",
   "metadata": {
    "vscode": {
     "languageId": "java"
    }
   },
   "outputs": [],
   "source": [
    "class Recursion {\n",
    "\n",
    "    // Ihre Lösung    \n",
    "    public static void main(String[] args) {\n",
    "        System.out.println(power(2, 3));\n",
    "    }\n",
    "}"
   ]
  },
  {
   "cell_type": "code",
   "execution_count": null,
   "id": "86b7c1b4-3aa1-4901-8bd6-f028bed8ff0e",
   "metadata": {
    "vscode": {
     "languageId": "java"
    }
   },
   "outputs": [],
   "source": [
    "Recursion.main(new String[0]);"
   ]
  },
  {
   "cell_type": "markdown",
   "id": "d2a5f92d-2099-4c9d-b854-25131e688a84",
   "metadata": {},
   "source": [
    "### Aufgabe 5:\n",
    "\n",
    "Schreiben Sie eine Methode `prune`, welche ein Array von ganzen Zahlen entgegennimmt, und ein neues Array zurückgibt, welches nur jede zweite Zahl enthält. Die erste Zahl soll dabei wieder die erste Zahl des neuen Arrays sein."
   ]
  },
  {
   "cell_type": "code",
   "execution_count": null,
   "id": "9e349166-4c4c-4e24-9724-ed779410141d",
   "metadata": {
    "vscode": {
     "languageId": "java"
    }
   },
   "outputs": [],
   "source": [
    "class ArrayPrune {\n",
    "    \n",
    "    // Ihre Lösung\n",
    "    \n",
    "    public static void main(String[] args) {        \n",
    "        System.out.println(Arrays.toString(prune(new int[]{1,2,3,4,5,6})));\n",
    "        \n",
    "    }\n",
    "}                       "
   ]
  },
  {
   "cell_type": "code",
   "execution_count": null,
   "id": "516713df-6251-415c-b88b-3dc521ba69c9",
   "metadata": {
    "vscode": {
     "languageId": "java"
    }
   },
   "outputs": [],
   "source": [
    "ArrayPrune.main(new String[0]);"
   ]
  },
  {
   "cell_type": "markdown",
   "id": "605ccfa5-c5f6-46da-8957-91016a0c4a35",
   "metadata": {},
   "source": [
    "### Aufgabe 6:\n",
    "\n",
    "*Diese Aufgabe ist deutlich schwieriger als die Aufgaben in der Prüfung*\n",
    "\n",
    "Schreiben Sie eine Methode `findPrimes`, welche ein Array von Arrays von ganzen Zahlen entgegennimmt und ein neues Array von Arrays zurückgibt, welches nur Kopien von den Arrays enthält, die eine Primzahl enthalten."
   ]
  },
  {
   "cell_type": "code",
   "execution_count": null,
   "id": "4725a730-1745-4c06-9cf3-85c2bbf49020",
   "metadata": {
    "vscode": {
     "languageId": "java"
    }
   },
   "outputs": [],
   "source": [
    "class PrimeArrays {\n",
    "    \n",
    "    // Ihre Lösung\n",
    "    \n",
    "    public static void main(String[] args) {        \n",
    "        System.out.println(Arrays.deepToString(findPrimes(new int[][]{{1,2}, {2,3,5}, {3,6}})));\n",
    "    }\n",
    "}"
   ]
  },
  {
   "cell_type": "code",
   "execution_count": null,
   "id": "f0cc177b-ebc7-4030-a1a0-61dc2c7b0ece",
   "metadata": {
    "vscode": {
     "languageId": "java"
    }
   },
   "outputs": [],
   "source": [
    "PrimeArrays.main(new String[0]);"
   ]
  }
 ],
 "metadata": {
  "kernelspec": {
   "display_name": "Java [conda env:ijava]",
   "language": "java",
   "name": "conda-env-ijava-java"
  },
  "language_info": {
   "codemirror_mode": "java",
   "file_extension": ".jshell",
   "mimetype": "text/x-java-source",
   "name": "Java",
   "pygments_lexer": "java",
   "version": "17.0.3-internal+0-adhoc..src"
  }
 },
 "nbformat": 4,
 "nbformat_minor": 5
}
