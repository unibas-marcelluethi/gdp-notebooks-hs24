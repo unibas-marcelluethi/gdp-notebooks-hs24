{
 "cells": [
  {
   "cell_type": "markdown",
   "id": "c34e369b",
   "metadata": {},
   "source": [
    "# Sudoku\n",
    "\n",
    "#### Patrick Schnider, Marcel Lüthi</br>Departement Mathematik und Informatik, Universität Basel\n",
    "\n",
    "Credit: Der hier verfolgte Ansatz ist inspiriert vom Blog-post von [baeldung](https://www.baeldung.com/java-sudoku). Die Bilder stammen von der [Englischsprachigen Wikipedia](https://en.wikipedia.org/wiki/Sudoku)."
   ]
  },
  {
   "cell_type": "markdown",
   "id": "1126b2a3",
   "metadata": {},
   "source": [
    "### Das Sudoku-Spiel\n",
    "\n",
    "Ein Sudoku-Spiel besteht aus einem $9 \\times 9$ Feld, welches in Quadrate der Grösse $3 \\times 3$ unterteilt ist. In einigen Zellen sind Zahlen, andere sind Leer. Das Ziel des Spiels ist es, die Zellen so auszufüllen, dass jede der Zahlen 1 bis 9 genau einmal pro Zeile, einmal pro Spalte und einmal pro Quadrat benutzt wird. \n",
    "\n",
    "![sudoku](images/sudoku-combined.png)\n"
   ]
  },
  {
   "cell_type": "code",
   "execution_count": null,
   "id": "3efe8f4c",
   "metadata": {},
   "outputs": [],
   "source": [
    "class Sudoku {\n",
    "\n",
    "    // Wir repräsentieren das Spiel als Array von Arrays, welches die \n",
    "    // Zahlen 0 - 9 enthalten kann. 0 bedeutet dabei, dass das Feld noch frei ist. \n",
    "    public static int[][] createBoard() {\n",
    "        int[][] board = new int[][] {\n",
    "          {5, 3, 0, 0, 7, 0, 0, 0, 0},\n",
    "          {6, 0, 0, 1, 9, 5, 0, 0, 0},\n",
    "          {0, 9, 8, 0, 0, 0, 0, 6, 0},\n",
    "          {8, 0, 0, 0, 6, 0, 0, 0, 3},\n",
    "          {4, 0, 0, 8, 0, 3, 0, 0, 1},\n",
    "          {7, 0, 0, 0, 2, 0, 0, 0, 6},\n",
    "          {0, 6, 0, 0, 0, 0, 2, 8, 0},\n",
    "          {0, 0, 0, 4, 1, 9, 0, 0, 5},\n",
    "          {0, 0, 0, 0, 8, 0, 0, 7, 9}\n",
    "        };\n",
    "        return board;\n",
    "    }\n",
    "\n",
    "\n",
    "    // Diese Methode gibt ein Sudoku-Spiel aus\n",
    "    public static void printBoard(int[][] board) {\n",
    "        // Implementation missing\n",
    "    }\n",
    "   \n",
    "    // Bestimmt, ob die Zeile, Spalte und damit verbundene Zelle\n",
    "    // gültig sind. Gültig bedeutet hier, dass keine Zahl zweimal \n",
    "    // vorkommt. Felder dürfen aber leer sein. \n",
    "    static boolean isValid(int[][] board, int row, int col) {\n",
    "        // Implementation missing\n",
    "        return true;\n",
    "    }\n",
    "    \n",
    "    \n",
    "    // Löst das Spiel mit Backtracking\n",
    "    static boolean solve(int[][] board) {\n",
    "        for (int row = 0; row < board.length; row = row + 1) {\n",
    "            for (int col = 0; col <  board[row].length; col = col + 1) {\n",
    "                \n",
    "                // Implementation missing\n",
    "                \n",
    "            }\n",
    "        }\n",
    "        return true;\n",
    "    }\n",
    "\n",
    "    \n",
    "    \n",
    "    public static void main(String[] args) {\n",
    "        int[][] board = createBoard();        \n",
    "        \n",
    "        solve(board);\n",
    "        printBoard(board);\n",
    "            \n",
    "    }\n",
    "\n",
    "    \n",
    "}\n",
    "\n",
    "Sudoku.main(new String[0]);"
   ]
  },
  {
   "cell_type": "code",
   "execution_count": null,
   "id": "bcd05913",
   "metadata": {},
   "outputs": [],
   "source": [
    "boolean[] x = new boolean[1];\n",
    "System.out.println(x[0]);"
   ]
  },
  {
   "cell_type": "code",
   "execution_count": null,
   "id": "4ecaf75f-759e-449e-bee0-34b77020b7fd",
   "metadata": {},
   "outputs": [],
   "source": []
  }
 ],
 "metadata": {
  "kernelspec": {
   "display_name": "Java [conda env:ijava]",
   "language": "java",
   "name": "conda-env-ijava-java"
  },
  "language_info": {
   "codemirror_mode": "java",
   "file_extension": ".jshell",
   "mimetype": "text/x-java-source",
   "name": "Java",
   "pygments_lexer": "java",
   "version": "17.0.3-internal+0-adhoc..src"
  }
 },
 "nbformat": 4,
 "nbformat_minor": 5
}
