{
 "cells": [
  {
   "cell_type": "markdown",
   "metadata": {
    "deletable": false
   },
   "source": [
    "# Grundlagen der Programmierung  <br/> Probeprüfung \n",
    "\n",
    "#### Patrick Schnider, Marcel Lüthi<br/> Departement Mathematik und Informatik, Universität Basel\n",
    "\n",
    "Bearbeitungszeit: 30 Minuten"
   ]
  },
  {
   "cell_type": "markdown",
   "metadata": {
    "deletable": false
   },
   "source": [
    "In diesem Notebook üben Sie,\n",
    "- wie die Zwischen- und Abschlussprüfung ablaufen.\n",
    "- dass Sie regelmässig speichern.\n",
    "- wie ein Notebook an der Prüfung aussieht.\n",
    "- was Sie beim Lösen der Prüfung beachten müssen.\n",
    "- wie Sie den Safe Exam Browser bedienen.\n",
    "- wie Sie die Prüfung am Ende der Bearbeitung hochladen."
   ]
  },
  {
   "cell_type": "markdown",
   "metadata": {
    "deletable": false
   },
   "source": [
    "Es gibt folgende Regeln zu beachten:\n",
    "- Speichern Sie spätestens nach jeder Aufgabe das Notebook.\n",
    "- Ändern Sie vorgeschriebene Klassennamen nicht.\n",
    "- Schreiben Sie immer nur genau eine Klasse pro Zelle.\n",
    "- Sie dürfen beliebig viele weitere Zellen erstellen um Ihr Programm zu testen, die Lösung muss aber in der vorgegebenen Zelle an der vorgegebenen Stelle stehen."
   ]
  },
  {
   "cell_type": "markdown",
   "metadata": {},
   "source": [
    "Wenn Sie nicht deutscher Muttersprache sind, können Sie Deepl benutzen um die Aufgaben zu übersetzen:\n",
    "\n",
    "* [Link zu Deepl](https://www.deepl.com/en/translator)"
   ]
  },
  {
   "cell_type": "markdown",
   "metadata": {},
   "source": [
    "Falls benötigt, können Sie hier auf die Dokumentation von Java zugreifen:\n",
    "\n",
    "* [Java-Dokumentation](https://docs.oracle.com/javase/8/docs/api/?java/lang/Math.html)"
   ]
  },
  {
   "cell_type": "markdown",
   "metadata": {},
   "source": [
    "Schreiben Sie in die nachfolgende Zelle Ihren Namen und E-Mail Adresse:"
   ]
  },
  {
   "cell_type": "markdown",
   "metadata": {},
   "source": [
    "Frieda Muster frieda.muster@unibas.ch"
   ]
  },
  {
   "cell_type": "markdown",
   "metadata": {
    "deletable": false
   },
   "source": [
    "### Aufgabe 1 - Teilbarkeit (2 Punkte)"
   ]
  },
  {
   "cell_type": "markdown",
   "metadata": {
    "deletable": false
   },
   "source": [
    "Schreiben Sie eine Methode `divisibleBy3`, welche überprüft, ob die übergebene Zahl durch 3 teilbar ist. Dabei soll für durch 3 teilbare Zahlen `\"X ist durch 3 teilbar.\"` ausgegeben werden und für alle anderen Zahlen `\"X ist nicht durch 3 teilbar.\"`. Dabei soll `\"X\"`durch die Zahl ersetzt werden.\n",
    "\n",
    "Mögliche Ausgaben sind:\n",
    "- `1 ist nicht durch 3 teilbar.`\n",
    "- `3 ist durch 3 teilbar.`\n",
    "- `7 ist nicht durch 3 teilbar.`"
   ]
  },
  {
   "cell_type": "code",
   "execution_count": null,
   "metadata": {
    "deletable": false,
    "exercise_id": 1,
    "vscode": {
     "languageId": "java"
    }
   },
   "outputs": [],
   "source": [
    "public class Divisibility {\n",
    "    public static void divisibleBy3(int n) {\n",
    "        if (n % 3 == 0) {\n",
    "            System.out.println(n + \" ist durch 3 teilbar.\");\n",
    "        }\n",
    "        else {\n",
    "            System.out.println(n + \" ist nicht durch 3 teilbar.\");\n",
    "        }\n",
    "    }\n",
    "    \n",
    "    public static void main(String[] args) {\n",
    "        int n = 7;\n",
    "        divisibleBy3(n);\n",
    "    }\n",
    "}"
   ]
  },
  {
   "cell_type": "code",
   "execution_count": null,
   "metadata": {
    "deletable": false,
    "vscode": {
     "languageId": "java"
    }
   },
   "outputs": [],
   "source": [
    "Divisibility.main(new String[0]);"
   ]
  },
  {
   "cell_type": "markdown",
   "metadata": {
    "deletable": false
   },
   "source": [
    "### Aufgabe 2 - Form (2 Punkte)"
   ]
  },
  {
   "cell_type": "markdown",
   "metadata": {
    "deletable": false
   },
   "source": [
    "![Form](images/shape2.png)\n",
    "\n",
    "Schreiben Sie eine Methode `isInside`, welche für die Koordinate (`x`, `y`) prüft, ob diese innerhalb oder ausserhalb der im Bild gezeigten Form liegt. Innerhalb der Form soll der Wahrheitswert `true` zurück gegeben werden, sonst soll `false` zurück gegeben werden.\n",
    "\n",
    "- Die Koordinate können Sie als zwei Gleitkommazahlen repräsentieren.\n",
    "- Der Rand der Form ist immer auf einer ganzen Zahl.\n",
    "- Der Rand der Form gehört zur Form."
   ]
  },
  {
   "cell_type": "code",
   "execution_count": null,
   "metadata": {
    "deletable": false,
    "exercise_id": 2,
    "vscode": {
     "languageId": "java"
    }
   },
   "outputs": [],
   "source": [
    "public class Shape {\n",
    "    public static boolean isInside(double xPos, double yPos) {\n",
    "        if (xPos >= -3 && xPos <= 5 && yPos >= -1 && yPos <= 4) {\n",
    "            if (xPos > 3 && yPos > 2) {\n",
    "                return false;\n",
    "            }\n",
    "            else if (xPos > -1 && xPos < 2 && yPos > 2 && yPos > 3) {\n",
    "                return false;\n",
    "            }\n",
    "            return true;\n",
    "        }\n",
    "        return false;\n",
    "    }\n",
    "    \n",
    "    public static void main(String[] args) {\n",
    "        double xPos = 0;\n",
    "        double yPos = 1;\n",
    "        boolean inside = isInside(xPos, yPos);\n",
    "        System.out.println(inside);\n",
    "    }\n",
    "}"
   ]
  },
  {
   "cell_type": "code",
   "execution_count": null,
   "metadata": {
    "deletable": false,
    "vscode": {
     "languageId": "java"
    }
   },
   "outputs": [],
   "source": [
    "Shape.main(new String[0]);"
   ]
  },
  {
   "cell_type": "markdown",
   "metadata": {
    "deletable": false
   },
   "source": [
    "### Aufgabe 3 - Fakultät (3 Punkte)"
   ]
  },
  {
   "cell_type": "markdown",
   "metadata": {
    "deletable": false
   },
   "source": [
    "Schreiben Sie eine Methode `factorial`, welche eine ganze Zahl übergeben bekommt. Die Methode soll alle ganzen Zahlen von 1 bis zur übergebenen Zahl multiplizieren und das Resultat zurückgeben."
   ]
  },
  {
   "cell_type": "code",
   "execution_count": null,
   "metadata": {
    "deletable": false,
    "exercise_id": 3,
    "vscode": {
     "languageId": "java"
    }
   },
   "outputs": [],
   "source": [
    "public class RecursiveSum {\n",
    "    public static int factorial(int n) {\n",
    "        if (n <= 1) {\n",
    "            return 1;\n",
    "        }\n",
    "        int result = n * factorial(n-1);\n",
    "        return result;\n",
    "    }\n",
    "    \n",
    "    public static void main(String[] args) {\n",
    "        int n = 5;\n",
    "        int result = factorial(n);\n",
    "        System.out.println(result);\n",
    "    }\n",
    "\n",
    "}"
   ]
  },
  {
   "cell_type": "code",
   "execution_count": null,
   "metadata": {
    "deletable": false,
    "vscode": {
     "languageId": "java"
    }
   },
   "outputs": [],
   "source": [
    "RecursiveSum.main(new String[0]);"
   ]
  },
  {
   "cell_type": "markdown",
   "metadata": {
    "deletable": false
   },
   "source": [
    "### Aufgabe 4: Summationstabelle (4 Punkte)\n",
    "\n",
    "Schreiben Sie eine Methode ```printTable```, welche als Argument eine Zahl ```n``` entgegennimmt. Es sollen dann für die ersten `n` Zahlen die ersten `n` Elemente der Summationstabelle ausgegeben werden. Formatieren Sie die Ausgabe der Zahlen, so dass diese die Länge 4 haben. Dabei gilt:\n",
    "- Ganze Zahlen werden mithilfe des Buchstabens `d` formatiert.\n",
    "- Die Länge wird als Zahl innerhalb der Formatierungsanweisung geschrieben.\n",
    "\n",
    "Beispiel mit `n = 4`\n",
    "```java\n",
    "0   1   2   3 \n",
    "1   2   3   4 \n",
    "2   3   4   5 \n",
    "3   4   5   6 \n",
    "```"
   ]
  },
  {
   "cell_type": "code",
   "execution_count": 1,
   "metadata": {
    "deletable": false,
    "exercise_id": 4,
    "vscode": {
     "languageId": "java"
    }
   },
   "outputs": [],
   "source": [
    "public class SummationTable {\n",
    "    public static void printTable(int n) {\n",
    "       for (int i = 0; i <= n-1; i = i + 1) {\n",
    "           for (int j = 0; j < n-1; j = j + 1) {\n",
    "               System.out.print(String.format(\"%4d\",i+j));\n",
    "           }\n",
    "           System.out.println(String.format(\"%4d\",i+n-1));\n",
    "       }\n",
    "    }\n",
    "    \n",
    "    public static void main(String[] args) {\n",
    "        int n = 4;\n",
    "        printTable(n);\n",
    "    }\n",
    "\n",
    "}"
   ]
  },
  {
   "cell_type": "code",
   "execution_count": null,
   "metadata": {
    "deletable": false,
    "vscode": {
     "languageId": "java"
    }
   },
   "outputs": [],
   "source": [
    "SummationTable.main(new String[0]);"
   ]
  },
  {
   "cell_type": "markdown",
   "metadata": {
    "deletable": false,
    "tags": []
   },
   "source": [
    "### Aufgabe 5: Benötigte Summanden (4 Punkte)\n",
    "\n",
    "Schreiben Sie eine Methode ```count```, welche als Argumente eine positive reelle Zahl ```start``` und eine reelle Zahl ```total``` entgegennimmt. Es soll dann gezählt werden, wie oft die Zahl `start` summiert werden muss, so dass die Summe grösser oder gleich `total` ist. Die Anzahl Summanden soll dann zurück gegeben werden."
   ]
  },
  {
   "cell_type": "code",
   "execution_count": null,
   "metadata": {
    "deletable": false,
    "exercise_id": 5,
    "vscode": {
     "languageId": "java"
    }
   },
   "outputs": [],
   "source": [
    "public class FindNeededNumbers {\n",
    "    public static int count(double start, double total) {\n",
    "        int summands = 0;\n",
    "        double sum = 0;\n",
    "        while (sum < total) {\n",
    "            summands = summands + 1;\n",
    "            sum = sum + start;\n",
    "        }\n",
    "        return summands;\n",
    "    }\n",
    "    \n",
    "    public static void main(String[] args) {\n",
    "        double start = 5.3;\n",
    "        double total = 10.5;\n",
    "        int result = count(start, total);\n",
    "        System.out.println(result);\n",
    "    }\n",
    "\n",
    "}"
   ]
  },
  {
   "cell_type": "code",
   "execution_count": null,
   "metadata": {
    "deletable": false,
    "vscode": {
     "languageId": "java"
    }
   },
   "outputs": [],
   "source": [
    "FindNeededNumbers.main(new String[0]);"
   ]
  },
  {
   "cell_type": "code",
   "execution_count": null,
   "metadata": {
    "vscode": {
     "languageId": "java"
    }
   },
   "outputs": [],
   "source": []
  }
 ],
 "metadata": {
  "celltoolbar": "Edit Metadata",
  "exercise_series": "gdp",
  "kernelspec": {
   "display_name": "Java",
   "language": "java",
   "name": "java"
  },
  "language_info": {
   "codemirror_mode": "java",
   "file_extension": ".jshell",
   "mimetype": "text/x-java-source",
   "name": "Java",
   "pygments_lexer": "java",
   "version": "17.0.11+7-LTS-jvmci-23.0-b34"
  },
  "notebook_id": 104,
  "toc": {
   "base_numbering": 1,
   "nav_menu": {},
   "number_sections": false,
   "sideBar": false,
   "skip_h1_title": false,
   "title_cell": "Table of Contents",
   "title_sidebar": "Contents",
   "toc_cell": false,
   "toc_position": {},
   "toc_section_display": false,
   "toc_window_display": false
  }
 },
 "nbformat": 4,
 "nbformat_minor": 4
}
