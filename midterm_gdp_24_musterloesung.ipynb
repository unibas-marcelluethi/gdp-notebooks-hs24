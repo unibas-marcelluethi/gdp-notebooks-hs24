{
 "cells": [
  {
   "cell_type": "markdown",
   "id": "bd1f3523",
   "metadata": {
    "deletable": false,
    "editable": false
   },
   "source": [
    "# Übungen: Grundlagen der Programmierung: Prüfung 1\n",
    "\n",
    "### Herbstsemester 2024\n",
    "\n",
    "\n",
    "##### Bearbeitungszeit:\n",
    "\n",
    "60 Minuten\n",
    "\n",
    "##### Maximal erreichbare Punktzahl: \n",
    "\n",
    "30\n",
    "\n",
    "##### Erlaubte Hilfsmittel: \n",
    "\n",
    "Studierende nicht deutscher Muttersprache dürfen Google Translate benutzen um die Aufgaben zu übersetzen. \n",
    "\n",
    "* [Link zu Google Translate](https://translate.google.com)"
   ]
  },
  {
   "cell_type": "markdown",
   "id": "61c53bb5",
   "metadata": {
    "deletable": false,
    "editable": false
   },
   "source": [
    "**Schreiben Sie in diese Zelle Ihren Vornamen und Namen und E-Mail Adresse**"
   ]
  },
  {
   "cell_type": "markdown",
   "id": "a64c0141",
   "metadata": {
    "deletable": false,
    "exercise_id": 0
   },
   "source": [
    "Hans Muster hans.muster@unibas.ch"
   ]
  },
  {
   "cell_type": "markdown",
   "id": "17284c67",
   "metadata": {},
   "source": [
    "## Aufgabe 1 (2 Punkte)\n",
    "\n",
    "Der folgende Code soll den Wurf einer Münze simulieren, wobei `1`für \"Kopf\" und `0`für Zahl steht.\n",
    "\n",
    "```java\n",
    "class Coin {\n",
    "    public static void main(String[] args) {\n",
    "        double random_number = Math.random();\n",
    "        int result = Math.round(random_number);\n",
    "        System.out.println(result)\n",
    "    }\n",
    "}\n",
    "```\n",
    "\n",
    "Der Code kompiliert jedoch nicht. Finden Sie die Fehler und fügen an der entsprechenden Stelle im Code einen Kommentar hinzu, der den Fehler beschreibt. Korrigieren Sie zudem das Programm, so dass es korrekt funktioniert."
   ]
  },
  {
   "cell_type": "code",
   "execution_count": null,
   "id": "21370e06",
   "metadata": {
    "vscode": {
     "languageId": "java"
    }
   },
   "outputs": [],
   "source": [
    "class Coin {\n",
    "    public static void main(String[] args) {\n",
    "        double random_number = Math.random();\n",
    "        int result = Math.round(random_number);\n",
    "        System.out.println(result)\n",
    "    }\n",
    "}"
   ]
  },
  {
   "cell_type": "code",
   "execution_count": null,
   "id": "191825cb",
   "metadata": {
    "vscode": {
     "languageId": "java"
    }
   },
   "outputs": [],
   "source": [
    "Coin.main(new String[0]);"
   ]
  },
  {
   "cell_type": "markdown",
   "id": "47fb2f92",
   "metadata": {},
   "source": [
    "#### Lösung"
   ]
  },
  {
   "cell_type": "code",
   "execution_count": 13,
   "id": "3f5fe18a",
   "metadata": {
    "vscode": {
     "languageId": "java"
    }
   },
   "outputs": [],
   "source": [
    "class Coin {\n",
    "    public static void main(String[] args) {\n",
    "        double random_number = Math.random();\n",
    "        int result = (int) Math.round(random_number); // Typecasting nötig\n",
    "        System.out.println(result); // Strichpunkt vergessen\n",
    "    }\n",
    "}"
   ]
  },
  {
   "cell_type": "code",
   "execution_count": null,
   "id": "5ba8bdb8",
   "metadata": {
    "vscode": {
     "languageId": "java"
    }
   },
   "outputs": [],
   "source": [
    "Coin.main(new String[0]);"
   ]
  },
  {
   "cell_type": "markdown",
   "id": "25ded965",
   "metadata": {},
   "source": [
    "## Aufgabe 2 (2 Punkte)\n",
    "\n",
    "Der folgende Code soll den Durchschnitt zweier ganzen Zahlen berechnen. Das Resultat ist aber falsch. Korrigieren Sie den Code so, dass das Resultat richtig wird.\n",
    "\n",
    "```java\n",
    "class Average {\n",
    "    public static void main(String[] args) {\n",
    "        int a = 6;\n",
    "        int b = 1;\n",
    "        double average = (a + b) / 2;\n",
    "        System.out.println(average);\n",
    "    }\n",
    "}\n",
    "```"
   ]
  },
  {
   "cell_type": "code",
   "execution_count": 15,
   "id": "17522762",
   "metadata": {
    "vscode": {
     "languageId": "java"
    }
   },
   "outputs": [],
   "source": [
    "class Average {\n",
    "    public static void main(String[] args) {\n",
    "        int a = 6;\n",
    "        int b = 1;\n",
    "        double average = (a + b) / 2;\n",
    "        System.out.println(average);\n",
    "    }\n",
    "}"
   ]
  },
  {
   "cell_type": "code",
   "execution_count": null,
   "id": "3c8ef8d3",
   "metadata": {
    "vscode": {
     "languageId": "java"
    }
   },
   "outputs": [],
   "source": [
    "Average.main(new String[0]);"
   ]
  },
  {
   "cell_type": "markdown",
   "id": "4ae1b580",
   "metadata": {},
   "source": [
    "#### Lösung"
   ]
  },
  {
   "cell_type": "code",
   "execution_count": 17,
   "id": "57c0b4a8",
   "metadata": {
    "vscode": {
     "languageId": "java"
    }
   },
   "outputs": [],
   "source": [
    "class Average {\n",
    "    public static void main(String[] args) {\n",
    "        int a = 6;\n",
    "        int b = 1;\n",
    "        double average = (a + b) / 2.0;\n",
    "        System.out.println(average);\n",
    "    }\n",
    "}"
   ]
  },
  {
   "cell_type": "code",
   "execution_count": null,
   "id": "b5209908",
   "metadata": {
    "vscode": {
     "languageId": "java"
    }
   },
   "outputs": [],
   "source": [
    "Average.main(new String[0]);"
   ]
  },
  {
   "cell_type": "markdown",
   "id": "0022bcfa",
   "metadata": {},
   "source": [
    "## Aufgabe 3 (4 Punkte)\n",
    "Schreiben Sie eine Methode `nonSquareDivisible` welche zwei ganzzahlige Parameter `n` und `k` entgegennimmt und alle ganzen Zahlen zwischen 1 und $n$ ausgibt, die durch $k$ teilbar sind, aber keine Quadratzahl sind."
   ]
  },
  {
   "cell_type": "code",
   "execution_count": null,
   "id": "e5db6e0c",
   "metadata": {
    "vscode": {
     "languageId": "java"
    }
   },
   "outputs": [],
   "source": [
    "class Numbers {\n",
    "\n",
    "    // Ihre Lösung\n",
    "\n",
    "    public static void main(String[] args) {\n",
    "        // Aufruf für n = 16 und k = 3\n",
    "        nonSquareDivisible(16, 3);\n",
    "    }\n",
    "\n",
    "}"
   ]
  },
  {
   "cell_type": "code",
   "execution_count": null,
   "id": "2b887f60",
   "metadata": {
    "vscode": {
     "languageId": "java"
    }
   },
   "outputs": [],
   "source": [
    "Numbers.main(new String[0]);"
   ]
  },
  {
   "cell_type": "markdown",
   "id": "80d863ac",
   "metadata": {},
   "source": [
    "#### Lösung"
   ]
  },
  {
   "cell_type": "code",
   "execution_count": 22,
   "id": "b471711a",
   "metadata": {
    "vscode": {
     "languageId": "java"
    }
   },
   "outputs": [],
   "source": [
    "class Numbers {\n",
    "\n",
    "    public static boolean isSquare(int i) {\n",
    "        int max = (int) Math.ceil(Math.sqrt(i));\n",
    "        for (int j = 1; j <= max; j++) {\n",
    "            if (j*j == i) {\n",
    "                return true;\n",
    "            }\n",
    "        }\n",
    "        return false;\n",
    "    }\n",
    "\n",
    "    public static void nonSquareDivisible(int n, int k) {\n",
    "        for (int i = 1; i <= n; i++) {\n",
    "            if (i % k == 0 && isSquare(i) == false) {\n",
    "                System.out.println(i);\n",
    "            }\n",
    "        }\n",
    "    }\n",
    "\n",
    "    public static void main(String[] args) {\n",
    "        // Aufruf für n = 16 und k = 3\n",
    "        nonSquareDivisible(16, 3);\n",
    "    }\n",
    "\n",
    "}"
   ]
  },
  {
   "cell_type": "code",
   "execution_count": null,
   "id": "098fdeef",
   "metadata": {
    "vscode": {
     "languageId": "java"
    }
   },
   "outputs": [],
   "source": [
    "Numbers.main(new String[0]);"
   ]
  },
  {
   "cell_type": "markdown",
   "id": "ccbd3737",
   "metadata": {},
   "source": [
    "## Aufgabe 4 (3 Punkte)\n",
    "\n",
    "Schreiben Sie eine Methode `asString`, welche zwei Ganzzahlen entgegennimmt, und diese als Bruch formatiert zurückgibt. So soll zum Beispiel `asString(3, 5)` den String `3/5` zurückgeben. Sie dürfen, müssen aber nicht `String.format` verwenden. Falls Sie `String.format` verwenden können Sie das Formatierungszeichen `%d` für Ganzzahlen verwenden. "
   ]
  },
  {
   "cell_type": "code",
   "execution_count": null,
   "id": "65c5c97d",
   "metadata": {
    "vscode": {
     "languageId": "java"
    }
   },
   "outputs": [],
   "source": [
    "class Fraction {\n",
    "    \n",
    "    // Ihre Lösung\n",
    "    \n",
    "    public static void main(String[] args) {\n",
    "        System.out.println(asString(3, 5));\n",
    "    }\n",
    "}"
   ]
  },
  {
   "cell_type": "code",
   "execution_count": null,
   "id": "7f7fe433",
   "metadata": {
    "vscode": {
     "languageId": "java"
    }
   },
   "outputs": [],
   "source": [
    "Fraction.main(new String[0]);"
   ]
  },
  {
   "cell_type": "markdown",
   "id": "38fd8837",
   "metadata": {},
   "source": [
    "#### Lösung"
   ]
  },
  {
   "cell_type": "code",
   "execution_count": 29,
   "id": "6fd30665",
   "metadata": {
    "vscode": {
     "languageId": "java"
    }
   },
   "outputs": [],
   "source": [
    "class Fraction {\n",
    "    \n",
    "    public static String asString(int a, int b) {\n",
    "        String astring = String.format(\"%d\",a);\n",
    "        String bstring = String.format(\"%d\",b);\n",
    "        String fract = astring + \"/\" + bstring;\n",
    "        return fract;\n",
    "    }\n",
    "    \n",
    "    public static void main(String[] args) {\n",
    "        System.out.println(asString(3, 5));\n",
    "    }\n",
    "}"
   ]
  },
  {
   "cell_type": "code",
   "execution_count": null,
   "id": "c22ae298",
   "metadata": {
    "vscode": {
     "languageId": "java"
    }
   },
   "outputs": [],
   "source": [
    "Fraction.main(new String[0]);"
   ]
  },
  {
   "cell_type": "markdown",
   "id": "cbc99138",
   "metadata": {},
   "source": [
    "## Aufgabe 5 (4 Punkte)\n",
    "Schreiben Sie eine Methode `drawIdentity` welche eine positive ganze Zahl `n` entgegennimmt und die Identitätsmatrix von Grösse $n$ ausgibt. (die Identitätsmatrix eine Tabelle mit $n$ Zeilen und $n$ Spalten, wobei fast überall eine 0 steht, ausser auf der Diagonale, d.h. da wo die Zeilennummer und die Spaltennummer gleich sind. Dort steht eine 1.) Für $n=4$ sollten Sie die folgende Matrix erhalten:\n",
    "\n",
    "```\n",
    "1000\n",
    "0100\n",
    "0010\n",
    "0001\n",
    "```"
   ]
  },
  {
   "cell_type": "code",
   "execution_count": null,
   "id": "da5ba08f",
   "metadata": {
    "vscode": {
     "languageId": "java"
    }
   },
   "outputs": [],
   "source": [
    "class Matrix {\n",
    "\n",
    "    // Ihre Lösung\n",
    "\n",
    "    public static void main(String[] args) {\n",
    "        drawIdentity(5);\n",
    "    }\n",
    "\n",
    "}"
   ]
  },
  {
   "cell_type": "code",
   "execution_count": null,
   "id": "808b8afb",
   "metadata": {
    "vscode": {
     "languageId": "java"
    }
   },
   "outputs": [],
   "source": [
    "Matrix.main(new String[0]);"
   ]
  },
  {
   "cell_type": "markdown",
   "id": "de609af9",
   "metadata": {},
   "source": [
    "#### Lösung"
   ]
  },
  {
   "cell_type": "code",
   "execution_count": 31,
   "id": "1fd8890e",
   "metadata": {
    "vscode": {
     "languageId": "java"
    }
   },
   "outputs": [],
   "source": [
    "class Matrix {\n",
    "\n",
    "    public static void drawIdentity(int n) {\n",
    "        for (int i = 1; i <= n; i++) {\n",
    "            for (int j = 1; j <= n; j++) {\n",
    "                if (i == j) {\n",
    "                    System.out.print(1);\n",
    "                }\n",
    "                else {\n",
    "                    System.out.print(0);\n",
    "                }\n",
    "            }\n",
    "            System.out.println(\"\");\n",
    "        }\n",
    "    }\n",
    "\n",
    "    public static void main(String[] args) {\n",
    "        drawIdentity(5);\n",
    "    }\n",
    "\n",
    "}"
   ]
  },
  {
   "cell_type": "code",
   "execution_count": null,
   "id": "ed847c22",
   "metadata": {
    "vscode": {
     "languageId": "java"
    }
   },
   "outputs": [],
   "source": [
    "Matrix.main(new String[0]);"
   ]
  },
  {
   "cell_type": "markdown",
   "id": "f631e812",
   "metadata": {},
   "source": [
    "## Aufgabe 6 (3 Punkte)\n",
    "Schreiben Sie eine Methode `fibonacci` welche die $n$'te Fibonacci-Zahl $f_n$ zurückgibt. Die Fibonacci-Zahlen sind wie folgt definiert:\n",
    "* $f_0 = 1$\n",
    "* $f_1 = 1$\n",
    "* $f_n = f_{n-1} + f_{n-2}$."
   ]
  },
  {
   "cell_type": "code",
   "execution_count": null,
   "id": "75f02130",
   "metadata": {
    "vscode": {
     "languageId": "java"
    }
   },
   "outputs": [],
   "source": [
    "class Fibonacci {\n",
    "\n",
    "    // Ihre Lösung\n",
    "\n",
    "    public static void main(String[] args) {\n",
    "        System.out.println(fibonacci(6));\n",
    "    }\n",
    "}"
   ]
  },
  {
   "cell_type": "code",
   "execution_count": null,
   "id": "67fa6a03",
   "metadata": {
    "vscode": {
     "languageId": "java"
    }
   },
   "outputs": [],
   "source": [
    "Fibonacci.main(new String[0]);"
   ]
  },
  {
   "cell_type": "markdown",
   "id": "f1d36c6b",
   "metadata": {},
   "source": [
    "#### Lösung"
   ]
  },
  {
   "cell_type": "code",
   "execution_count": 37,
   "id": "25cba9ba",
   "metadata": {
    "vscode": {
     "languageId": "java"
    }
   },
   "outputs": [],
   "source": [
    "class Fibonacci {\n",
    "\n",
    "    public static int fibonacci(int n) {\n",
    "        if (n <= 1) {\n",
    "            return 1;\n",
    "        }\n",
    "        return fibonacci(n-1) + fibonacci(n-2);\n",
    "    }\n",
    "\n",
    "    public static void main(String[] args) {\n",
    "        System.out.println(fibonacci(6));\n",
    "    }\n",
    "}"
   ]
  },
  {
   "cell_type": "code",
   "execution_count": null,
   "id": "a3320e83",
   "metadata": {
    "vscode": {
     "languageId": "java"
    }
   },
   "outputs": [],
   "source": [
    "Fibonacci.main(new String[0]);"
   ]
  },
  {
   "cell_type": "markdown",
   "id": "aa7c7d57",
   "metadata": {},
   "source": [
    "## Aufgabe 7 (3 Punkte)\n",
    "\n",
    "Schreiben Sie eine Methode `assignments`, die zwei ganze Zahlen entgegen nimmt: die Anzahl Studierenden und die Anzahl Übungsgruppen. Die Methode soll berechnen, wieviele Studierende bei einer möglicht gleichmässigen Gruppenaufteilung in einer Übungsgruppe sind und soll die Lösung in einem Satz der Form `Es gibt A Übungsgruppen mit X Studierenden und B Übungsgruppen mit Y Studierenden` ausgeben (wobei `A`, `B`, `X` und `Y` durch die korrekten Werte ersetzt werden sollen)."
   ]
  },
  {
   "cell_type": "code",
   "execution_count": null,
   "id": "33f457f9",
   "metadata": {
    "vscode": {
     "languageId": "java"
    }
   },
   "outputs": [],
   "source": [
    "class Groups {\n",
    "    \n",
    "    // Ihre Lösung\n",
    "\n",
    "    public static void main(String[] args) {\n",
    "        // Berechnung für 135 Studierende und 7 Übungsgruppen\n",
    "        assignments(135, 7);\n",
    "    }\n",
    "}"
   ]
  },
  {
   "cell_type": "code",
   "execution_count": null,
   "id": "074eba5d",
   "metadata": {
    "vscode": {
     "languageId": "java"
    }
   },
   "outputs": [],
   "source": [
    "Groups.main(new String[0]);"
   ]
  },
  {
   "cell_type": "markdown",
   "id": "d3e0eaaf",
   "metadata": {},
   "source": [
    "#### Lösung"
   ]
  },
  {
   "cell_type": "code",
   "execution_count": null,
   "id": "dbb2fb16",
   "metadata": {
    "vscode": {
     "languageId": "java"
    }
   },
   "outputs": [],
   "source": [
    "class Groups {\n",
    "    public static void assignments(int num_students, int num_groups) {\n",
    "        // Schreiben Sie hier Ihren Code\n",
    "        int size_small_groups = num_students / num_groups;\n",
    "        int num_large_groups = num_students % num_groups;\n",
    "        System.out.println(\"Es gibt \" + num_large_groups + \" Übungsgruppen mit \" + (size_small_groups + 1) + \" Studierenden und \" + (num_groups - num_large_groups) + \" Übungsgruppen mit \" + size_small_groups + \" Studierenden.\");\n",
    "    }\n",
    "\n",
    "    public static void main(String[] args) {\n",
    "        // Berechnung für 135 Studierende und 7 Übungsgruppen\n",
    "        assignments(135, 7);\n",
    "    }\n",
    "}"
   ]
  },
  {
   "cell_type": "code",
   "execution_count": null,
   "id": "dc946e4e",
   "metadata": {
    "vscode": {
     "languageId": "java"
    }
   },
   "outputs": [],
   "source": [
    "Groups.main(new String[0]);"
   ]
  },
  {
   "cell_type": "markdown",
   "id": "30c3c501",
   "metadata": {},
   "source": [
    "## Aufgabe 8 (4 Punkte)\n",
    "Schreiben Sie eine Methode 'sumUp' welche zwei Gleitkommazahl-Arrays von gleicher Länge entgegennimmt und ein Array zurückgibt, dessen $i$'ter Eintrag die Summe der jeweiligen Einträge der entgegengenommenen Arrays ist."
   ]
  },
  {
   "cell_type": "code",
   "execution_count": null,
   "id": "86e869af",
   "metadata": {
    "vscode": {
     "languageId": "java"
    }
   },
   "outputs": [],
   "source": [
    "class ArraySum {\n",
    "\n",
    "    // Ihre Lösung\n",
    "\n",
    "    public static void main(String[] args) {\n",
    "        System.out.println(Arrays.toString(sumUp(new double[]{1.2, 2.5, 1.0}, new double[]{2.1, 2.3, 3.0})));\n",
    "    }\n",
    "}"
   ]
  },
  {
   "cell_type": "code",
   "execution_count": null,
   "id": "6a5c9829",
   "metadata": {
    "vscode": {
     "languageId": "java"
    }
   },
   "outputs": [],
   "source": [
    "ArraySum.main(new String[0]);"
   ]
  },
  {
   "cell_type": "markdown",
   "id": "43523030",
   "metadata": {},
   "source": [
    "#### Lösung"
   ]
  },
  {
   "cell_type": "code",
   "execution_count": 48,
   "id": "0e2149df",
   "metadata": {
    "vscode": {
     "languageId": "java"
    }
   },
   "outputs": [],
   "source": [
    "class ArraySum {\n",
    "\n",
    "    public static double[] sumUp(double[] a, double[] b) {\n",
    "        double[] c = new double[a.length];\n",
    "        for (int i = 0; i < a.length; i++) {\n",
    "            c[i] = a[i] + b[i];\n",
    "        }\n",
    "        return c;\n",
    "    }\n",
    "\n",
    "    public static void main(String[] args) {\n",
    "        System.out.println(Arrays.toString(sumUp(new double[]{1.2, 2.5, 1.0}, new double[]{2.1, 2.3, 3.0})));\n",
    "    }\n",
    "}"
   ]
  },
  {
   "cell_type": "code",
   "execution_count": null,
   "id": "9284b260",
   "metadata": {
    "vscode": {
     "languageId": "java"
    }
   },
   "outputs": [],
   "source": [
    "ArraySum.main(new String[0]);"
   ]
  },
  {
   "cell_type": "markdown",
   "id": "fb55fb7c",
   "metadata": {},
   "source": [
    "## Aufgabe 9 (5 Punkte)\n",
    "Für diese Aufgabe geben wir Ihnen bereits eine Methode, die Sie weder verstehen noch ändern müssen. Die Methode `rightTurn(x1, y1, x2, y2, x3, y3)` schaut sich die drei Punkte $p_1 = (x_1, y_1)$ ,$p_2 = (x_2, y_2)$ und $p_3 = (x_3, y_3)$ in der Ebene an und gibt zurück ob man, wenn man bei $p_1$ startet und zu $p_2$ und dann zu $p_3$ geht, eine Rechtskurve gemacht hat. In anderen Worten: die Methode entscheidet, ob $p_3$ auf der rechten Seite der orientierten Gerade $\\overrightarrow{p_1p_2}$ liegt. Wenn ja, gibt die Methode `true` zurück, ansonsten `false`.\n",
    "\n",
    "In der Methode `main` sind ausserdem 7 Punkte $p_1,\\ldots,p_7$ als Arrays von zwei Gleitkommazahlen definiert. Ihre Aufgabe ist die folgende:\n",
    "* Schreiben Sie eine Methode, welche ein Array von Punkten (gespeichert als Arrays von zwei Gleitkommazahlen) entgegennimmt und `true` zurückgibt, wenn drei aufeinanderfolgende Punkte im Array immer eine Rechtskurve bilden. Wenn es drei aufeinanderfolgende Punkte gibt, die keine Rechtskurve bilden, soll die Methode `false` zurückgeben.\n",
    "* Testen Sie Ihre Methode, indem Sie die gegebenen 7 Punkte ins korrekte Format bringen, ihrer Methode übergeben, und den Rückgabewert ausgeben."
   ]
  },
  {
   "cell_type": "code",
   "execution_count": 57,
   "id": "4311ef08",
   "metadata": {
    "vscode": {
     "languageId": "java"
    }
   },
   "outputs": [],
   "source": [
    "class Turns{\n",
    "\n",
    "    // Diese Methode müssen Sie nicht verändern\n",
    "    public static boolean rightTurn(double x1, double y1, double x2, double y2, double x3, double y3) {\n",
    "        if (((y2 - y1) * (x3 - x2)) - ((x2 - x1) * (y3 - y2)) > 0) {\n",
    "            return true;\n",
    "        }\n",
    "        return false;\n",
    "    }\n",
    "\n",
    "    // Ihre Lösung\n",
    "\n",
    "    public static void main(String[] args) {\n",
    "        double[] p1 = new double[]{0.0, 0.0};\n",
    "        double[] p2 = new double[]{-0.84, 1.88};\n",
    "        double[] p3 = new double[]{1.54, 2.7};\n",
    "        double[] p4 = new double[]{2.18, 1.12};\n",
    "        double[] p5 = new double[]{-1.44, 0.7};\n",
    "        double[] p6 = new double[]{0.6, 2.0};\n",
    "        double[] p7 = new double[]{0.8, -0.88};\n",
    "\n",
    "        // Ihre Lösung\n",
    "    }\n",
    "}"
   ]
  },
  {
   "cell_type": "code",
   "execution_count": null,
   "id": "f354f497",
   "metadata": {
    "vscode": {
     "languageId": "java"
    }
   },
   "outputs": [],
   "source": [
    "Turns.main(new String[0]);"
   ]
  },
  {
   "cell_type": "markdown",
   "id": "cbd93443",
   "metadata": {},
   "source": [
    "#### Lösung"
   ]
  },
  {
   "cell_type": "code",
   "execution_count": 69,
   "id": "a7df2667",
   "metadata": {
    "vscode": {
     "languageId": "java"
    }
   },
   "outputs": [],
   "source": [
    "class Turns{\n",
    "\n",
    "    // Diese Methode müssen Sie nicht verändern\n",
    "    public static boolean rightTurn(double x1, double y1, double x2, double y2, double x3, double y3) {\n",
    "        if (((y2 - y1) * (x3 - x2)) - ((x2 - x1) * (y3 - y2)) > 0) {\n",
    "            return true;\n",
    "        }\n",
    "        return false;\n",
    "    }\n",
    "\n",
    "    public static boolean allRight(double[][] path) {\n",
    "        for (int i = 0; i < path.length - 2; i++) {\n",
    "            if (rightTurn(path[i][0], path[i][1], path[i+1][0], path[i+1][1], path[i+2][0], path[i+2][1]) == false) {\n",
    "                return false;\n",
    "            }\n",
    "        }\n",
    "        return true;\n",
    "    }\n",
    "\n",
    "    public static void main(String[] args) {\n",
    "        double[] p1 = new double[]{0.0, 0.0};\n",
    "        double[] p2 = new double[]{-0.84, 1.88};\n",
    "        double[] p3 = new double[]{1.54, 2.7};\n",
    "        double[] p4 = new double[]{2.18, 1.12};\n",
    "        double[] p5 = new double[]{-1.44, 0.7};\n",
    "        double[] p6 = new double[]{0.6, 2.0};\n",
    "        double[] p7 = new double[]{0.8, -0.88};\n",
    "\n",
    "        double[][] path = new double[][]{p1, p2, p3, p4, p5, p6, p7};\n",
    "        System.out.println(allRight(path));\n",
    "    }\n",
    "}"
   ]
  },
  {
   "cell_type": "code",
   "execution_count": null,
   "id": "d9579fe7",
   "metadata": {
    "vscode": {
     "languageId": "java"
    }
   },
   "outputs": [],
   "source": [
    "Turns.main(new String[0]);"
   ]
  }
 ],
 "metadata": {
  "celltoolbar": "Edit Metadata",
  "exercise_series": "gdp",
  "kernelspec": {
   "display_name": "Java",
   "language": "java",
   "name": "java"
  },
  "language_info": {
   "codemirror_mode": "java",
   "file_extension": ".jshell",
   "mimetype": "text/x-java-source",
   "name": "Java",
   "pygments_lexer": "java",
   "version": "17.0.11+7-LTS-jvmci-23.0-b34"
  },
  "notebook_id": 2301
 },
 "nbformat": 4,
 "nbformat_minor": 5
}
